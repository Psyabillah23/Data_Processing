{
 "cells": [
  {
   "cell_type": "markdown",
   "metadata": {
    "papermill": {
     "duration": 0.027719,
     "end_time": "2020-10-31T13:35:23.644138",
     "exception": false,
     "start_time": "2020-10-31T13:35:23.616419",
     "status": "completed"
    },
    "tags": []
   },
   "source": [
    "Model machine learning dan deep learning memerlukan semua variabel input dan output dalam bentuk numerik. Ini berarti bahwa jika data Anda mengandung data kategorikal, Anda harus mengodekannya menjadi angka sebelum Anda dapat menyesuaikan dan mengevaluasi model. Ada beberapa teknik untuk mengodekan variabel kategorikal. Mari kita bahas ini:\n",
    "\n",
    "1. **One-Hot Encoding**\n",
    "2. **Label Encoding**\n",
    "3. **Target Encoding**\n",
    "4. **Target Guided Ordinal Encoding**\n",
    "5. **Custom Encoding**"
   ]
  },
  {
   "cell_type": "markdown",
   "metadata": {},
   "source": [
    "# Data Preparation"
   ]
  },
  {
   "cell_type": "code",
   "execution_count": 92,
   "metadata": {
    "_cell_guid": "b1076dfc-b9ad-4769-8c92-a6c4dae69d19",
    "_uuid": "8f2839f25d086af736a60e9eeb907d3b93b6e0e5",
    "execution": {
     "iopub.execute_input": "2020-10-31T13:35:23.703783Z",
     "iopub.status.busy": "2020-10-31T13:35:23.702898Z",
     "iopub.status.idle": "2020-10-31T13:35:24.662438Z",
     "shell.execute_reply": "2020-10-31T13:35:24.661604Z"
    },
    "papermill": {
     "duration": 0.991725,
     "end_time": "2020-10-31T13:35:24.662556",
     "exception": false,
     "start_time": "2020-10-31T13:35:23.670831",
     "status": "completed"
    },
    "tags": []
   },
   "outputs": [],
   "source": [
    "import numpy as np\n",
    "import pandas as pd\n",
    "from sklearn.impute import SimpleImputer\n",
    "from sklearn.preprocessing import LabelEncoder,OneHotEncoder, TargetEncoder\n",
    "from sklearn.model_selection import train_test_split"
   ]
  },
  {
   "cell_type": "code",
   "execution_count": 44,
   "metadata": {
    "execution": {
     "iopub.execute_input": "2020-10-31T13:35:24.724155Z",
     "iopub.status.busy": "2020-10-31T13:35:24.723438Z",
     "iopub.status.idle": "2020-10-31T13:35:24.754533Z",
     "shell.execute_reply": "2020-10-31T13:35:24.753845Z"
    },
    "papermill": {
     "duration": 0.063639,
     "end_time": "2020-10-31T13:35:24.754659",
     "exception": false,
     "start_time": "2020-10-31T13:35:24.691020",
     "status": "completed"
    },
    "tags": []
   },
   "outputs": [
    {
     "data": {
      "text/html": [
       "<div>\n",
       "<style scoped>\n",
       "    .dataframe tbody tr th:only-of-type {\n",
       "        vertical-align: middle;\n",
       "    }\n",
       "\n",
       "    .dataframe tbody tr th {\n",
       "        vertical-align: top;\n",
       "    }\n",
       "\n",
       "    .dataframe thead th {\n",
       "        text-align: right;\n",
       "    }\n",
       "</style>\n",
       "<table border=\"1\" class=\"dataframe\">\n",
       "  <thead>\n",
       "    <tr style=\"text-align: right;\">\n",
       "      <th></th>\n",
       "      <th>Sex</th>\n",
       "      <th>Cabin</th>\n",
       "      <th>Embarked</th>\n",
       "      <th>Survived</th>\n",
       "    </tr>\n",
       "  </thead>\n",
       "  <tbody>\n",
       "    <tr>\n",
       "      <th>0</th>\n",
       "      <td>male</td>\n",
       "      <td>NaN</td>\n",
       "      <td>S</td>\n",
       "      <td>0</td>\n",
       "    </tr>\n",
       "    <tr>\n",
       "      <th>1</th>\n",
       "      <td>female</td>\n",
       "      <td>C85</td>\n",
       "      <td>C</td>\n",
       "      <td>1</td>\n",
       "    </tr>\n",
       "    <tr>\n",
       "      <th>2</th>\n",
       "      <td>female</td>\n",
       "      <td>NaN</td>\n",
       "      <td>S</td>\n",
       "      <td>1</td>\n",
       "    </tr>\n",
       "  </tbody>\n",
       "</table>\n",
       "</div>"
      ],
      "text/plain": [
       "      Sex Cabin Embarked  Survived\n",
       "0    male   NaN        S         0\n",
       "1  female   C85        C         1\n",
       "2  female   NaN        S         1"
      ]
     },
     "execution_count": 44,
     "metadata": {},
     "output_type": "execute_result"
    }
   ],
   "source": [
    "data = pd.read_csv('train.csv')\n",
    "data = data[['Sex','Cabin','Embarked','Survived']]\n",
    "data.head(3)"
   ]
  },
  {
   "cell_type": "code",
   "execution_count": 45,
   "metadata": {
    "execution": {
     "iopub.execute_input": "2020-10-31T13:35:24.816742Z",
     "iopub.status.busy": "2020-10-31T13:35:24.814526Z",
     "iopub.status.idle": "2020-10-31T13:35:24.821281Z",
     "shell.execute_reply": "2020-10-31T13:35:24.820739Z"
    },
    "papermill": {
     "duration": 0.039518,
     "end_time": "2020-10-31T13:35:24.821393",
     "exception": false,
     "start_time": "2020-10-31T13:35:24.781875",
     "status": "completed"
    },
    "tags": []
   },
   "outputs": [
    {
     "data": {
      "text/plain": [
       "Sex           0\n",
       "Cabin       687\n",
       "Embarked      2\n",
       "Survived      0\n",
       "dtype: int64"
      ]
     },
     "execution_count": 45,
     "metadata": {},
     "output_type": "execute_result"
    }
   ],
   "source": [
    "#checking missing values\n",
    "data.isnull().sum()"
   ]
  },
  {
   "cell_type": "code",
   "execution_count": 46,
   "metadata": {
    "execution": {
     "iopub.execute_input": "2020-10-31T13:35:24.892834Z",
     "iopub.status.busy": "2020-10-31T13:35:24.889538Z",
     "iopub.status.idle": "2020-10-31T13:35:24.896462Z",
     "shell.execute_reply": "2020-10-31T13:35:24.897019Z"
    },
    "papermill": {
     "duration": 0.048393,
     "end_time": "2020-10-31T13:35:24.897164",
     "exception": false,
     "start_time": "2020-10-31T13:35:24.848771",
     "status": "completed"
    },
    "tags": []
   },
   "outputs": [],
   "source": [
    "#non imputed data\n",
    "df_nn = data.copy()\n",
    "df = data.drop(columns=['Survived'])\n",
    "y = data['Survived']\n",
    "\n",
    "# We will fill the missing values\n",
    "imp = SimpleImputer(strategy=\"most_frequent\")\n",
    "imp.fit(df)\n",
    "df[df.columns] = imp.transform(df)\n"
   ]
  },
  {
   "cell_type": "code",
   "execution_count": 47,
   "metadata": {
    "execution": {
     "iopub.execute_input": "2020-10-31T13:35:24.961374Z",
     "iopub.status.busy": "2020-10-31T13:35:24.960434Z",
     "iopub.status.idle": "2020-10-31T13:35:24.964559Z",
     "shell.execute_reply": "2020-10-31T13:35:24.963868Z"
    },
    "papermill": {
     "duration": 0.039803,
     "end_time": "2020-10-31T13:35:24.964693",
     "exception": false,
     "start_time": "2020-10-31T13:35:24.924890",
     "status": "completed"
    },
    "tags": []
   },
   "outputs": [
    {
     "name": "stdout",
     "output_type": "stream",
     "text": [
      "(668, 3)\n",
      "(223, 3)\n",
      "(668,)\n",
      "(223,)\n"
     ]
    }
   ],
   "source": [
    "# train test split\n",
    "\n",
    "X_train,X_test,y_train,y_test = train_test_split(df,y)\n",
    "print(X_train.shape)\n",
    "print(X_test.shape)\n",
    "print(y_train.shape)\n",
    "print(y_test.shape)"
   ]
  },
  {
   "cell_type": "markdown",
   "metadata": {},
   "source": [
    "# 1. Onehot Encoding"
   ]
  },
  {
   "cell_type": "markdown",
   "metadata": {},
   "source": [
    "## Menggunakan sklearn Onehot Encoder\n",
    "\n",
    "Langkah pertama adalah kita akan meng-copy dari train test split ke dataframe baru, sehingga hasil dari data pre-processing tidak akan mengganggu data orisinal"
   ]
  },
  {
   "cell_type": "code",
   "execution_count": 48,
   "metadata": {},
   "outputs": [],
   "source": [
    "df_train = X_train.copy()\n",
    "df_test = X_test.copy()"
   ]
  },
  {
   "cell_type": "code",
   "execution_count": 49,
   "metadata": {},
   "outputs": [],
   "source": [
    "df_train_category = df_train[['Sex', 'Embarked']]\n",
    "df_test_category = df_test[['Sex', 'Embarked']]"
   ]
  },
  {
   "cell_type": "code",
   "execution_count": 50,
   "metadata": {},
   "outputs": [],
   "source": [
    "one = OneHotEncoder(handle_unknown ='ignore')\n",
    "one.fit(df_train_category)\n",
    "train_vec = one.transform(df_train_category)\n",
    "test_vec = one.transform(df_test_category)"
   ]
  },
  {
   "cell_type": "code",
   "execution_count": 51,
   "metadata": {},
   "outputs": [
    {
     "data": {
      "text/plain": [
       "array(['Sex_female', 'Sex_male', 'Embarked_C', 'Embarked_Q', 'Embarked_S'],\n",
       "      dtype=object)"
      ]
     },
     "execution_count": 51,
     "metadata": {},
     "output_type": "execute_result"
    }
   ],
   "source": [
    "one.get_feature_names_out()"
   ]
  },
  {
   "cell_type": "markdown",
   "metadata": {},
   "source": [
    "**Catatan:**\n",
    "\n",
    "1. `handle_unknown = 'ignore'` sangat penting. Jika kategori yang tidak dikenal ditemukan selama transformasi, kolom yang dihasilkan untuk one-hot encoding dari fitur ini akan semuanya nol. Dalam kasus sebelumnya, kita menyelaraskan dan mengisi kategori yang tidak dikenal dari data uji dengan nol. Di sini, ini akan ditangani secara otomatis.\n",
    "\n",
    "2. Hal penting lainnya adalah bahwa secara default, one hot encoder akan mengembalikan vektor jarang (sparse). Ini akan berguna untuk perhitungan yang lebih cepat saat menangani data berdimensi tinggi. Kita juga bisa mematikannya dengan mengatur `sparse = False` jika kita ingin mengonversinya menjadi padat (dense) jika kita ingin melihat data frame."
   ]
  },
  {
   "cell_type": "code",
   "execution_count": 52,
   "metadata": {},
   "outputs": [
    {
     "name": "stdout",
     "output_type": "stream",
     "text": [
      "(668, 5)\n",
      "(223, 5)\n"
     ]
    }
   ],
   "source": [
    "feats = one.get_feature_names_out()\n",
    "# sparce to dense\n",
    "train_vec = train_vec.toarray()\n",
    "test_vec = test_vec.toarray()\n",
    "\n",
    "\n",
    "train_df_category = pd.DataFrame(train_vec,columns=feats)\n",
    "test_df_category = pd.DataFrame(test_vec,columns=feats)\n",
    "\n",
    "print(train_df_category.shape)\n",
    "print(test_df_category.shape)"
   ]
  },
  {
   "cell_type": "code",
   "execution_count": 53,
   "metadata": {},
   "outputs": [
    {
     "data": {
      "text/html": [
       "<div>\n",
       "<style scoped>\n",
       "    .dataframe tbody tr th:only-of-type {\n",
       "        vertical-align: middle;\n",
       "    }\n",
       "\n",
       "    .dataframe tbody tr th {\n",
       "        vertical-align: top;\n",
       "    }\n",
       "\n",
       "    .dataframe thead th {\n",
       "        text-align: right;\n",
       "    }\n",
       "</style>\n",
       "<table border=\"1\" class=\"dataframe\">\n",
       "  <thead>\n",
       "    <tr style=\"text-align: right;\">\n",
       "      <th></th>\n",
       "      <th>Sex_female</th>\n",
       "      <th>Sex_male</th>\n",
       "      <th>Embarked_C</th>\n",
       "      <th>Embarked_Q</th>\n",
       "      <th>Embarked_S</th>\n",
       "    </tr>\n",
       "  </thead>\n",
       "  <tbody>\n",
       "    <tr>\n",
       "      <th>0</th>\n",
       "      <td>0.0</td>\n",
       "      <td>1.0</td>\n",
       "      <td>0.0</td>\n",
       "      <td>0.0</td>\n",
       "      <td>1.0</td>\n",
       "    </tr>\n",
       "    <tr>\n",
       "      <th>1</th>\n",
       "      <td>0.0</td>\n",
       "      <td>1.0</td>\n",
       "      <td>0.0</td>\n",
       "      <td>0.0</td>\n",
       "      <td>1.0</td>\n",
       "    </tr>\n",
       "    <tr>\n",
       "      <th>2</th>\n",
       "      <td>0.0</td>\n",
       "      <td>1.0</td>\n",
       "      <td>0.0</td>\n",
       "      <td>0.0</td>\n",
       "      <td>1.0</td>\n",
       "    </tr>\n",
       "  </tbody>\n",
       "</table>\n",
       "</div>"
      ],
      "text/plain": [
       "   Sex_female  Sex_male  Embarked_C  Embarked_Q  Embarked_S\n",
       "0         0.0       1.0         0.0         0.0         1.0\n",
       "1         0.0       1.0         0.0         0.0         1.0\n",
       "2         0.0       1.0         0.0         0.0         1.0"
      ]
     },
     "execution_count": 53,
     "metadata": {},
     "output_type": "execute_result"
    }
   ],
   "source": [
    "train_df_category.head(3)"
   ]
  },
  {
   "cell_type": "code",
   "execution_count": 54,
   "metadata": {},
   "outputs": [
    {
     "data": {
      "text/html": [
       "<div>\n",
       "<style scoped>\n",
       "    .dataframe tbody tr th:only-of-type {\n",
       "        vertical-align: middle;\n",
       "    }\n",
       "\n",
       "    .dataframe tbody tr th {\n",
       "        vertical-align: top;\n",
       "    }\n",
       "\n",
       "    .dataframe thead th {\n",
       "        text-align: right;\n",
       "    }\n",
       "</style>\n",
       "<table border=\"1\" class=\"dataframe\">\n",
       "  <thead>\n",
       "    <tr style=\"text-align: right;\">\n",
       "      <th></th>\n",
       "      <th>Sex_female</th>\n",
       "      <th>Sex_male</th>\n",
       "      <th>Embarked_C</th>\n",
       "      <th>Embarked_Q</th>\n",
       "      <th>Embarked_S</th>\n",
       "    </tr>\n",
       "  </thead>\n",
       "  <tbody>\n",
       "    <tr>\n",
       "      <th>0</th>\n",
       "      <td>0.0</td>\n",
       "      <td>1.0</td>\n",
       "      <td>1.0</td>\n",
       "      <td>0.0</td>\n",
       "      <td>0.0</td>\n",
       "    </tr>\n",
       "    <tr>\n",
       "      <th>1</th>\n",
       "      <td>0.0</td>\n",
       "      <td>1.0</td>\n",
       "      <td>1.0</td>\n",
       "      <td>0.0</td>\n",
       "      <td>0.0</td>\n",
       "    </tr>\n",
       "    <tr>\n",
       "      <th>2</th>\n",
       "      <td>1.0</td>\n",
       "      <td>0.0</td>\n",
       "      <td>0.0</td>\n",
       "      <td>0.0</td>\n",
       "      <td>1.0</td>\n",
       "    </tr>\n",
       "  </tbody>\n",
       "</table>\n",
       "</div>"
      ],
      "text/plain": [
       "   Sex_female  Sex_male  Embarked_C  Embarked_Q  Embarked_S\n",
       "0         0.0       1.0         1.0         0.0         0.0\n",
       "1         0.0       1.0         1.0         0.0         0.0\n",
       "2         1.0       0.0         0.0         0.0         1.0"
      ]
     },
     "execution_count": 54,
     "metadata": {},
     "output_type": "execute_result"
    }
   ],
   "source": [
    "test_df_category.head(3)"
   ]
  },
  {
   "cell_type": "markdown",
   "metadata": {},
   "source": [
    "**Catatan:**\n",
    "\n",
    "Contoh untuk mendapatkan vektor non-sparse (padat) secara langsung.\n",
    "\n",
    "Tidak terdapat perbedaan pada hasil output, hanya cara penyimpanan nya yang berbeda, sehingga lebih hemat memori. Ini sangat disarankan pada kasus categorical yang sangat variatif. Contoh pada kasus warna baju T-Shirt, yang terdapat pilihan warna bisa lebih dari 10.\n",
    "\n",
    "Contoh ilustrasi:\n",
    "```\n",
    "[\"merah\", \"biru\", \"hijau\", \"merah\"]\n",
    "\n",
    "[[1, 0, 0],  # merah\n",
    " [0, 0, 1],  # biru\n",
    " [0, 1, 0],  # hijau\n",
    " [1, 0, 0]]  # merah\n",
    "```\n",
    "\n",
    "Cara ubah ke sparse adalah mengubah hasil encoding ke format ---> **(index_data, posisi_angka_1_dalam_array)**\n",
    "```\n",
    "(0, 0)  1\n",
    "(1, 2)  1\n",
    "(2, 1)  1\n",
    "(3, 0)  1\n",
    "```"
   ]
  },
  {
   "cell_type": "code",
   "execution_count": 82,
   "metadata": {},
   "outputs": [
    {
     "name": "stdout",
     "output_type": "stream",
     "text": [
      "(891, 5)\n"
     ]
    }
   ],
   "source": [
    "dff = df[['Sex', 'Embarked']].copy()\n",
    "one = OneHotEncoder(sparse_output=True)\n",
    "one.fit(dff)\n",
    "dff_ = one.transform(dff)\n",
    "feats = one.get_feature_names_out()\n",
    "dff_ = pd.DataFrame(dff_.toarray(),columns=feats)\n",
    "print(dff_.shape)"
   ]
  },
  {
   "cell_type": "code",
   "execution_count": 83,
   "metadata": {},
   "outputs": [
    {
     "data": {
      "text/html": [
       "<div>\n",
       "<style scoped>\n",
       "    .dataframe tbody tr th:only-of-type {\n",
       "        vertical-align: middle;\n",
       "    }\n",
       "\n",
       "    .dataframe tbody tr th {\n",
       "        vertical-align: top;\n",
       "    }\n",
       "\n",
       "    .dataframe thead th {\n",
       "        text-align: right;\n",
       "    }\n",
       "</style>\n",
       "<table border=\"1\" class=\"dataframe\">\n",
       "  <thead>\n",
       "    <tr style=\"text-align: right;\">\n",
       "      <th></th>\n",
       "      <th>Sex_female</th>\n",
       "      <th>Sex_male</th>\n",
       "      <th>Embarked_C</th>\n",
       "      <th>Embarked_Q</th>\n",
       "      <th>Embarked_S</th>\n",
       "    </tr>\n",
       "  </thead>\n",
       "  <tbody>\n",
       "    <tr>\n",
       "      <th>0</th>\n",
       "      <td>0.0</td>\n",
       "      <td>1.0</td>\n",
       "      <td>0.0</td>\n",
       "      <td>0.0</td>\n",
       "      <td>1.0</td>\n",
       "    </tr>\n",
       "    <tr>\n",
       "      <th>1</th>\n",
       "      <td>1.0</td>\n",
       "      <td>0.0</td>\n",
       "      <td>1.0</td>\n",
       "      <td>0.0</td>\n",
       "      <td>0.0</td>\n",
       "    </tr>\n",
       "    <tr>\n",
       "      <th>2</th>\n",
       "      <td>1.0</td>\n",
       "      <td>0.0</td>\n",
       "      <td>0.0</td>\n",
       "      <td>0.0</td>\n",
       "      <td>1.0</td>\n",
       "    </tr>\n",
       "    <tr>\n",
       "      <th>3</th>\n",
       "      <td>1.0</td>\n",
       "      <td>0.0</td>\n",
       "      <td>0.0</td>\n",
       "      <td>0.0</td>\n",
       "      <td>1.0</td>\n",
       "    </tr>\n",
       "    <tr>\n",
       "      <th>4</th>\n",
       "      <td>0.0</td>\n",
       "      <td>1.0</td>\n",
       "      <td>0.0</td>\n",
       "      <td>0.0</td>\n",
       "      <td>1.0</td>\n",
       "    </tr>\n",
       "  </tbody>\n",
       "</table>\n",
       "</div>"
      ],
      "text/plain": [
       "   Sex_female  Sex_male  Embarked_C  Embarked_Q  Embarked_S\n",
       "0         0.0       1.0         0.0         0.0         1.0\n",
       "1         1.0       0.0         1.0         0.0         0.0\n",
       "2         1.0       0.0         0.0         0.0         1.0\n",
       "3         1.0       0.0         0.0         0.0         1.0\n",
       "4         0.0       1.0         0.0         0.0         1.0"
      ]
     },
     "execution_count": 83,
     "metadata": {},
     "output_type": "execute_result"
    }
   ],
   "source": [
    "dff_.head()"
   ]
  },
  {
   "cell_type": "code",
   "execution_count": 84,
   "metadata": {},
   "outputs": [
    {
     "name": "stdout",
     "output_type": "stream",
     "text": [
      "(891, 5)\n"
     ]
    }
   ],
   "source": [
    "dff = df[['Sex', 'Embarked']].copy()\n",
    "one = OneHotEncoder(sparse_output=False)\n",
    "one.fit(dff)\n",
    "dff_ = one.transform(dff)\n",
    "feats = one.get_feature_names_out()\n",
    "dff_ = pd.DataFrame(dff_,columns=feats)\n",
    "print(dff_.shape)"
   ]
  },
  {
   "cell_type": "code",
   "execution_count": 85,
   "metadata": {},
   "outputs": [
    {
     "data": {
      "text/html": [
       "<div>\n",
       "<style scoped>\n",
       "    .dataframe tbody tr th:only-of-type {\n",
       "        vertical-align: middle;\n",
       "    }\n",
       "\n",
       "    .dataframe tbody tr th {\n",
       "        vertical-align: top;\n",
       "    }\n",
       "\n",
       "    .dataframe thead th {\n",
       "        text-align: right;\n",
       "    }\n",
       "</style>\n",
       "<table border=\"1\" class=\"dataframe\">\n",
       "  <thead>\n",
       "    <tr style=\"text-align: right;\">\n",
       "      <th></th>\n",
       "      <th>Sex_female</th>\n",
       "      <th>Sex_male</th>\n",
       "      <th>Embarked_C</th>\n",
       "      <th>Embarked_Q</th>\n",
       "      <th>Embarked_S</th>\n",
       "    </tr>\n",
       "  </thead>\n",
       "  <tbody>\n",
       "    <tr>\n",
       "      <th>0</th>\n",
       "      <td>0.0</td>\n",
       "      <td>1.0</td>\n",
       "      <td>0.0</td>\n",
       "      <td>0.0</td>\n",
       "      <td>1.0</td>\n",
       "    </tr>\n",
       "    <tr>\n",
       "      <th>1</th>\n",
       "      <td>1.0</td>\n",
       "      <td>0.0</td>\n",
       "      <td>1.0</td>\n",
       "      <td>0.0</td>\n",
       "      <td>0.0</td>\n",
       "    </tr>\n",
       "    <tr>\n",
       "      <th>2</th>\n",
       "      <td>1.0</td>\n",
       "      <td>0.0</td>\n",
       "      <td>0.0</td>\n",
       "      <td>0.0</td>\n",
       "      <td>1.0</td>\n",
       "    </tr>\n",
       "    <tr>\n",
       "      <th>3</th>\n",
       "      <td>1.0</td>\n",
       "      <td>0.0</td>\n",
       "      <td>0.0</td>\n",
       "      <td>0.0</td>\n",
       "      <td>1.0</td>\n",
       "    </tr>\n",
       "    <tr>\n",
       "      <th>4</th>\n",
       "      <td>0.0</td>\n",
       "      <td>1.0</td>\n",
       "      <td>0.0</td>\n",
       "      <td>0.0</td>\n",
       "      <td>1.0</td>\n",
       "    </tr>\n",
       "  </tbody>\n",
       "</table>\n",
       "</div>"
      ],
      "text/plain": [
       "   Sex_female  Sex_male  Embarked_C  Embarked_Q  Embarked_S\n",
       "0         0.0       1.0         0.0         0.0         1.0\n",
       "1         1.0       0.0         1.0         0.0         0.0\n",
       "2         1.0       0.0         0.0         0.0         1.0\n",
       "3         1.0       0.0         0.0         0.0         1.0\n",
       "4         0.0       1.0         0.0         0.0         1.0"
      ]
     },
     "execution_count": 85,
     "metadata": {},
     "output_type": "execute_result"
    }
   ],
   "source": [
    "dff_.head()"
   ]
  },
  {
   "cell_type": "markdown",
   "metadata": {},
   "source": [
    "**Catatan:** \n",
    "\n",
    "Menghapus fitur one-hot pertama dari setiap kolom. Ini akan sangat membantu terutama dalam kasus model linear di mana multikolinearitas dapat mempengaruhi model.\n",
    "\n",
    "***INGAT!!!***\n",
    "---> Penanganan dummy variable pada one hot encoding : (n-1) kolom\n",
    "\n",
    "Dengan menambahkan ```drop='first'```, maka kolom pertama dari hasil encoding dari setiap variabel categorical akan dihapus"
   ]
  },
  {
   "cell_type": "code",
   "execution_count": 86,
   "metadata": {},
   "outputs": [
    {
     "name": "stdout",
     "output_type": "stream",
     "text": [
      "(891, 3)\n"
     ]
    }
   ],
   "source": [
    "dff = df[['Sex', 'Embarked']].copy()\n",
    "one = OneHotEncoder(drop='first',sparse_output=False)\n",
    "one.fit(dff)\n",
    "dff_ = one.transform(dff)\n",
    "feats = one.get_feature_names_out()\n",
    "dff_ = pd.DataFrame(dff_,columns=feats)\n",
    "print(dff_.shape)\n"
   ]
  },
  {
   "cell_type": "code",
   "execution_count": 87,
   "metadata": {},
   "outputs": [
    {
     "data": {
      "text/html": [
       "<div>\n",
       "<style scoped>\n",
       "    .dataframe tbody tr th:only-of-type {\n",
       "        vertical-align: middle;\n",
       "    }\n",
       "\n",
       "    .dataframe tbody tr th {\n",
       "        vertical-align: top;\n",
       "    }\n",
       "\n",
       "    .dataframe thead th {\n",
       "        text-align: right;\n",
       "    }\n",
       "</style>\n",
       "<table border=\"1\" class=\"dataframe\">\n",
       "  <thead>\n",
       "    <tr style=\"text-align: right;\">\n",
       "      <th></th>\n",
       "      <th>Sex_male</th>\n",
       "      <th>Embarked_Q</th>\n",
       "      <th>Embarked_S</th>\n",
       "    </tr>\n",
       "  </thead>\n",
       "  <tbody>\n",
       "    <tr>\n",
       "      <th>0</th>\n",
       "      <td>1.0</td>\n",
       "      <td>0.0</td>\n",
       "      <td>1.0</td>\n",
       "    </tr>\n",
       "    <tr>\n",
       "      <th>1</th>\n",
       "      <td>0.0</td>\n",
       "      <td>0.0</td>\n",
       "      <td>0.0</td>\n",
       "    </tr>\n",
       "    <tr>\n",
       "      <th>2</th>\n",
       "      <td>0.0</td>\n",
       "      <td>0.0</td>\n",
       "      <td>1.0</td>\n",
       "    </tr>\n",
       "    <tr>\n",
       "      <th>3</th>\n",
       "      <td>0.0</td>\n",
       "      <td>0.0</td>\n",
       "      <td>1.0</td>\n",
       "    </tr>\n",
       "    <tr>\n",
       "      <th>4</th>\n",
       "      <td>1.0</td>\n",
       "      <td>0.0</td>\n",
       "      <td>1.0</td>\n",
       "    </tr>\n",
       "  </tbody>\n",
       "</table>\n",
       "</div>"
      ],
      "text/plain": [
       "   Sex_male  Embarked_Q  Embarked_S\n",
       "0       1.0         0.0         1.0\n",
       "1       0.0         0.0         0.0\n",
       "2       0.0         0.0         1.0\n",
       "3       0.0         0.0         1.0\n",
       "4       1.0         0.0         1.0"
      ]
     },
     "execution_count": 87,
     "metadata": {},
     "output_type": "execute_result"
    }
   ],
   "source": [
    "dff_.head()"
   ]
  },
  {
   "cell_type": "markdown",
   "metadata": {
    "papermill": {
     "duration": 0.028502,
     "end_time": "2020-10-31T13:35:25.021331",
     "exception": false,
     "start_time": "2020-10-31T13:35:24.992829",
     "status": "completed"
    },
    "tags": []
   },
   "source": [
    "# 2. Label Encoding\n",
    "\n",
    "**Catatan:** Dalam label encoding, setiap label diubah menjadi nilai integer. Kita akan membuat variabel yang berisi kategori yang mewakili kualifikasi pendidikan seseorang.\n",
    "\n",
    "### (a) Menggunakan pendekatan kode kategori\n",
    "\n",
    "Pendekatan ini memerlukan kolom kategori untuk memiliki tipe data ``'category'``. Secara default, kolom non-numerik adalah tipe ``'object'``. Jadi, Anda mungkin perlu mengubah tipe menjadi `'category'` sebelum menggunakan pendekatan ini."
   ]
  },
  {
   "cell_type": "code",
   "execution_count": 90,
   "metadata": {
    "execution": {
     "iopub.execute_input": "2020-10-31T13:35:25.096147Z",
     "iopub.status.busy": "2020-10-31T13:35:25.088585Z",
     "iopub.status.idle": "2020-10-31T13:35:25.100415Z",
     "shell.execute_reply": "2020-10-31T13:35:25.099720Z"
    },
    "papermill": {
     "duration": 0.050723,
     "end_time": "2020-10-31T13:35:25.100533",
     "exception": false,
     "start_time": "2020-10-31T13:35:25.049810",
     "status": "completed"
    },
    "tags": []
   },
   "outputs": [
    {
     "data": {
      "text/html": [
       "<div>\n",
       "<style scoped>\n",
       "    .dataframe tbody tr th:only-of-type {\n",
       "        vertical-align: middle;\n",
       "    }\n",
       "\n",
       "    .dataframe tbody tr th {\n",
       "        vertical-align: top;\n",
       "    }\n",
       "\n",
       "    .dataframe thead th {\n",
       "        text-align: right;\n",
       "    }\n",
       "</style>\n",
       "<table border=\"1\" class=\"dataframe\">\n",
       "  <thead>\n",
       "    <tr style=\"text-align: right;\">\n",
       "      <th></th>\n",
       "      <th>Sex</th>\n",
       "      <th>Embarked</th>\n",
       "    </tr>\n",
       "  </thead>\n",
       "  <tbody>\n",
       "    <tr>\n",
       "      <th>0</th>\n",
       "      <td>1</td>\n",
       "      <td>2</td>\n",
       "    </tr>\n",
       "    <tr>\n",
       "      <th>1</th>\n",
       "      <td>0</td>\n",
       "      <td>0</td>\n",
       "    </tr>\n",
       "    <tr>\n",
       "      <th>2</th>\n",
       "      <td>0</td>\n",
       "      <td>2</td>\n",
       "    </tr>\n",
       "    <tr>\n",
       "      <th>3</th>\n",
       "      <td>0</td>\n",
       "      <td>2</td>\n",
       "    </tr>\n",
       "    <tr>\n",
       "      <th>4</th>\n",
       "      <td>1</td>\n",
       "      <td>2</td>\n",
       "    </tr>\n",
       "  </tbody>\n",
       "</table>\n",
       "</div>"
      ],
      "text/plain": [
       "   Sex  Embarked\n",
       "0    1         2\n",
       "1    0         0\n",
       "2    0         2\n",
       "3    0         2\n",
       "4    1         2"
      ]
     },
     "execution_count": 90,
     "metadata": {},
     "output_type": "execute_result"
    }
   ],
   "source": [
    "dff = df[['Sex', 'Embarked']].copy()\n",
    "for feat in dff.columns:\n",
    "    dff[feat] = dff[feat].astype('category')\n",
    "    dff[feat] = dff[feat].cat.codes\n",
    "dff.head()"
   ]
  },
  {
   "cell_type": "markdown",
   "metadata": {
    "papermill": {
     "duration": 0.029593,
     "end_time": "2020-10-31T13:35:25.159527",
     "exception": false,
     "start_time": "2020-10-31T13:35:25.129934",
     "status": "completed"
    },
    "tags": []
   },
   "source": [
    "### (b) using Sklearn Label Encoder"
   ]
  },
  {
   "cell_type": "code",
   "execution_count": 91,
   "metadata": {
    "execution": {
     "iopub.execute_input": "2020-10-31T13:35:25.233808Z",
     "iopub.status.busy": "2020-10-31T13:35:25.232875Z",
     "iopub.status.idle": "2020-10-31T13:35:25.237765Z",
     "shell.execute_reply": "2020-10-31T13:35:25.238314Z"
    },
    "papermill": {
     "duration": 0.049693,
     "end_time": "2020-10-31T13:35:25.238471",
     "exception": false,
     "start_time": "2020-10-31T13:35:25.188778",
     "status": "completed"
    },
    "tags": []
   },
   "outputs": [
    {
     "name": "stdout",
     "output_type": "stream",
     "text": [
      "(891, 2)\n"
     ]
    },
    {
     "data": {
      "text/html": [
       "<div>\n",
       "<style scoped>\n",
       "    .dataframe tbody tr th:only-of-type {\n",
       "        vertical-align: middle;\n",
       "    }\n",
       "\n",
       "    .dataframe tbody tr th {\n",
       "        vertical-align: top;\n",
       "    }\n",
       "\n",
       "    .dataframe thead th {\n",
       "        text-align: right;\n",
       "    }\n",
       "</style>\n",
       "<table border=\"1\" class=\"dataframe\">\n",
       "  <thead>\n",
       "    <tr style=\"text-align: right;\">\n",
       "      <th></th>\n",
       "      <th>Sex</th>\n",
       "      <th>Embarked</th>\n",
       "    </tr>\n",
       "  </thead>\n",
       "  <tbody>\n",
       "    <tr>\n",
       "      <th>0</th>\n",
       "      <td>1</td>\n",
       "      <td>2</td>\n",
       "    </tr>\n",
       "    <tr>\n",
       "      <th>1</th>\n",
       "      <td>0</td>\n",
       "      <td>0</td>\n",
       "    </tr>\n",
       "    <tr>\n",
       "      <th>2</th>\n",
       "      <td>0</td>\n",
       "      <td>2</td>\n",
       "    </tr>\n",
       "    <tr>\n",
       "      <th>3</th>\n",
       "      <td>0</td>\n",
       "      <td>2</td>\n",
       "    </tr>\n",
       "    <tr>\n",
       "      <th>4</th>\n",
       "      <td>1</td>\n",
       "      <td>2</td>\n",
       "    </tr>\n",
       "  </tbody>\n",
       "</table>\n",
       "</div>"
      ],
      "text/plain": [
       "   Sex  Embarked\n",
       "0    1         2\n",
       "1    0         0\n",
       "2    0         2\n",
       "3    0         2\n",
       "4    1         2"
      ]
     },
     "execution_count": 91,
     "metadata": {},
     "output_type": "execute_result"
    }
   ],
   "source": [
    "dff = df[['Sex', 'Embarked']].copy()\n",
    "for feat in dff.columns:\n",
    "    lb = LabelEncoder()\n",
    "    lb.fit(dff[feat])\n",
    "    dff[feat] = lb.transform(dff[feat])\n",
    "\n",
    "print(dff.shape)\n",
    "dff.head()"
   ]
  },
  {
   "cell_type": "markdown",
   "metadata": {},
   "source": [
    "# 3. Target Encoding\n",
    "\n",
    "Berikut adalah teknik encoding yang merupakan teknik untuk mengubah nilai kategorial dengan nilai rata-rata variabel target yang berkaitan dengan variabel kategorial itu sendiri.\n",
    "\n",
    "Target Encoding berbeda dengan teknik encoding lainnya, yakni memerlukan nilai `y` atau `target`. \n",
    "\n",
    "Oleh sebab itu, encoding ini hanya cocok pada kasus **Supervised Learning**"
   ]
  },
  {
   "cell_type": "code",
   "execution_count": 98,
   "metadata": {},
   "outputs": [
    {
     "name": "stdout",
     "output_type": "stream",
     "text": [
      "(891, 2)\n"
     ]
    },
    {
     "data": {
      "text/html": [
       "<div>\n",
       "<style scoped>\n",
       "    .dataframe tbody tr th:only-of-type {\n",
       "        vertical-align: middle;\n",
       "    }\n",
       "\n",
       "    .dataframe tbody tr th {\n",
       "        vertical-align: top;\n",
       "    }\n",
       "\n",
       "    .dataframe thead th {\n",
       "        text-align: right;\n",
       "    }\n",
       "</style>\n",
       "<table border=\"1\" class=\"dataframe\">\n",
       "  <thead>\n",
       "    <tr style=\"text-align: right;\">\n",
       "      <th></th>\n",
       "      <th>Sex</th>\n",
       "      <th>Embarked</th>\n",
       "    </tr>\n",
       "  </thead>\n",
       "  <tbody>\n",
       "    <tr>\n",
       "      <th>0</th>\n",
       "      <td>0.189127</td>\n",
       "      <td>0.339075</td>\n",
       "    </tr>\n",
       "    <tr>\n",
       "      <th>1</th>\n",
       "      <td>0.741117</td>\n",
       "      <td>0.552522</td>\n",
       "    </tr>\n",
       "    <tr>\n",
       "      <th>2</th>\n",
       "      <td>0.741117</td>\n",
       "      <td>0.339075</td>\n",
       "    </tr>\n",
       "    <tr>\n",
       "      <th>3</th>\n",
       "      <td>0.741117</td>\n",
       "      <td>0.339075</td>\n",
       "    </tr>\n",
       "    <tr>\n",
       "      <th>4</th>\n",
       "      <td>0.189127</td>\n",
       "      <td>0.339075</td>\n",
       "    </tr>\n",
       "  </tbody>\n",
       "</table>\n",
       "</div>"
      ],
      "text/plain": [
       "        Sex  Embarked\n",
       "0  0.189127  0.339075\n",
       "1  0.741117  0.552522\n",
       "2  0.741117  0.339075\n",
       "3  0.741117  0.339075\n",
       "4  0.189127  0.339075"
      ]
     },
     "execution_count": 98,
     "metadata": {},
     "output_type": "execute_result"
    }
   ],
   "source": [
    "dff = df[['Sex', 'Embarked']].copy()\n",
    "for feat in dff.columns:\n",
    "    tg = TargetEncoder()\n",
    "    tg.fit(dff[[feat]], y)\n",
    "    dff[feat] = tg.transform(dff[[feat]])\n",
    "\n",
    "print(dff.shape)\n",
    "dff.head()"
   ]
  },
  {
   "cell_type": "markdown",
   "metadata": {},
   "source": [
    "# 4. Target Guided Ordinal Encoding\n",
    "\n",
    "Sama dengann Target Encoding, hanya terdapat tambahan, yakni sistem ranking (ordinal encoding). Dimana dari hasil rata-rata, diurutkan dengan nilai tertinggi, kemudian dituliskan rankingnya"
   ]
  },
  {
   "cell_type": "code",
   "execution_count": 106,
   "metadata": {},
   "outputs": [
    {
     "name": "stdout",
     "output_type": "stream",
     "text": [
      "(891, 2)\n"
     ]
    },
    {
     "data": {
      "text/html": [
       "<div>\n",
       "<style scoped>\n",
       "    .dataframe tbody tr th:only-of-type {\n",
       "        vertical-align: middle;\n",
       "    }\n",
       "\n",
       "    .dataframe tbody tr th {\n",
       "        vertical-align: top;\n",
       "    }\n",
       "\n",
       "    .dataframe thead th {\n",
       "        text-align: right;\n",
       "    }\n",
       "</style>\n",
       "<table border=\"1\" class=\"dataframe\">\n",
       "  <thead>\n",
       "    <tr style=\"text-align: right;\">\n",
       "      <th></th>\n",
       "      <th>Sex</th>\n",
       "      <th>Embarked</th>\n",
       "    </tr>\n",
       "  </thead>\n",
       "  <tbody>\n",
       "    <tr>\n",
       "      <th>0</th>\n",
       "      <td>0</td>\n",
       "      <td>0</td>\n",
       "    </tr>\n",
       "    <tr>\n",
       "      <th>1</th>\n",
       "      <td>1</td>\n",
       "      <td>2</td>\n",
       "    </tr>\n",
       "    <tr>\n",
       "      <th>2</th>\n",
       "      <td>1</td>\n",
       "      <td>0</td>\n",
       "    </tr>\n",
       "    <tr>\n",
       "      <th>3</th>\n",
       "      <td>1</td>\n",
       "      <td>0</td>\n",
       "    </tr>\n",
       "    <tr>\n",
       "      <th>4</th>\n",
       "      <td>0</td>\n",
       "      <td>0</td>\n",
       "    </tr>\n",
       "  </tbody>\n",
       "</table>\n",
       "</div>"
      ],
      "text/plain": [
       "   Sex  Embarked\n",
       "0    0         0\n",
       "1    1         2\n",
       "2    1         0\n",
       "3    1         0\n",
       "4    0         0"
      ]
     },
     "execution_count": 106,
     "metadata": {},
     "output_type": "execute_result"
    }
   ],
   "source": [
    "dff = df[['Sex', 'Embarked']].copy()\n",
    "for feat in dff.columns:\n",
    "    ## Target Encoding\n",
    "    tg = TargetEncoder()\n",
    "    tg.fit(dff[[feat]], y)\n",
    "    dff[feat] = tg.transform(dff[[feat]])\n",
    "\n",
    "    ## Below the ranking process part\n",
    "    set_mean_list = list(set(dff[feat].values))\n",
    "    set_mean_list.sort()\n",
    "    transformation_dict = {value: key for key, value in enumerate(set_mean_list)}\n",
    "    dff[feat] = dff[feat].map(transformation_dict)\n",
    "\n",
    "print(dff.shape)\n",
    "dff.head()"
   ]
  },
  {
   "cell_type": "markdown",
   "metadata": {
    "papermill": {
     "duration": 0.038387,
     "end_time": "2020-10-31T13:35:27.199722",
     "exception": false,
     "start_time": "2020-10-31T13:35:27.161335",
     "status": "completed"
    },
    "tags": []
   },
   "source": [
    "# 5. Custom Encoding\n",
    "\n",
    "Di sini, kita hanya mengubah kategori menjadi angka yang kita inginkan. Tentu kita harus memiliki *rules* atau aturan yang tetap untuk melakukan ini. Selain itu, juga ada basis alasan yang kuat akan penggunaan *rules* tersebut."
   ]
  },
  {
   "cell_type": "code",
   "execution_count": 22,
   "metadata": {
    "execution": {
     "iopub.execute_input": "2020-10-31T13:35:27.281962Z",
     "iopub.status.busy": "2020-10-31T13:35:27.280950Z",
     "iopub.status.idle": "2020-10-31T13:35:27.284254Z",
     "shell.execute_reply": "2020-10-31T13:35:27.283639Z"
    },
    "papermill": {
     "duration": 0.046651,
     "end_time": "2020-10-31T13:35:27.284366",
     "exception": false,
     "start_time": "2020-10-31T13:35:27.237715",
     "status": "completed"
    },
    "tags": []
   },
   "outputs": [],
   "source": [
    "df_train = X_train.copy()\n",
    "df_test = X_test.copy()"
   ]
  },
  {
   "cell_type": "code",
   "execution_count": 23,
   "metadata": {
    "execution": {
     "iopub.execute_input": "2020-10-31T13:35:27.372186Z",
     "iopub.status.busy": "2020-10-31T13:35:27.371360Z",
     "iopub.status.idle": "2020-10-31T13:35:27.375756Z",
     "shell.execute_reply": "2020-10-31T13:35:27.375171Z"
    },
    "papermill": {
     "duration": 0.051986,
     "end_time": "2020-10-31T13:35:27.375895",
     "exception": false,
     "start_time": "2020-10-31T13:35:27.323909",
     "status": "completed"
    },
    "tags": []
   },
   "outputs": [
    {
     "data": {
      "text/plain": [
       "B96 B98        691\n",
       "G6               4\n",
       "C23 C25 C27      4\n",
       "D                3\n",
       "C22 C26          3\n",
       "              ... \n",
       "F E69            1\n",
       "C103             1\n",
       "C46              1\n",
       "C49              1\n",
       "D6               1\n",
       "Name: Cabin, Length: 147, dtype: int64"
      ]
     },
     "execution_count": 23,
     "metadata": {},
     "output_type": "execute_result"
    }
   ],
   "source": [
    "df['Cabin'].value_counts()"
   ]
  },
  {
   "cell_type": "markdown",
   "metadata": {
    "papermill": {
     "duration": 0.040189,
     "end_time": "2020-10-31T13:35:27.455768",
     "exception": false,
     "start_time": "2020-10-31T13:35:27.415579",
     "status": "completed"
    },
    "tags": []
   },
   "source": [
    "Dalam kasus Cabin, kita dapat melihat bahwa ada 147 nilai unik. Namun, dari nilai-nilai ini, cabin 'B96 B98' muncul sebanyak 691 kali, sementara yang lainnya muncul hanya dalam jumlah yang sangat sedikit. Jadi, misalkan kita ingin mengkodekan 'B96 B98' sebagai 1 dan sisanya sebagai 0. Jenis encoding ini disebut sebagai custom encoding. Mari kita lihat bagaimana kita dapat melakukannya."
   ]
  },
  {
   "cell_type": "code",
   "execution_count": 108,
   "metadata": {
    "execution": {
     "iopub.execute_input": "2020-10-31T13:35:27.546664Z",
     "iopub.status.busy": "2020-10-31T13:35:27.545891Z",
     "iopub.status.idle": "2020-10-31T13:35:27.550503Z",
     "shell.execute_reply": "2020-10-31T13:35:27.549898Z"
    },
    "papermill": {
     "duration": 0.055495,
     "end_time": "2020-10-31T13:35:27.550621",
     "exception": false,
     "start_time": "2020-10-31T13:35:27.495126",
     "status": "completed"
    },
    "tags": []
   },
   "outputs": [
    {
     "data": {
      "text/plain": [
       "405    1\n",
       "639    1\n",
       "168    1\n",
       "230    0\n",
       "715    0\n",
       "      ..\n",
       "135    1\n",
       "836    1\n",
       "839    0\n",
       "476    1\n",
       "111    1\n",
       "Name: Cabin_encoded, Length: 668, dtype: int64"
      ]
     },
     "execution_count": 108,
     "metadata": {},
     "output_type": "execute_result"
    }
   ],
   "source": [
    "\n",
    "df_train['Cabin_encoded'] = df_train['Cabin'].apply(lambda x: 1 if x=='B96 B98' else 0)\n",
    "df_test['Cabin_encoded'] = df_test['Cabin'].apply(lambda x: 1 if x=='B96 B98' else 0)\n",
    "df_train['Cabin_encoded']"
   ]
  }
 ],
 "metadata": {
  "kernelspec": {
   "display_name": "Python 3",
   "language": "python",
   "name": "python3"
  },
  "language_info": {
   "codemirror_mode": {
    "name": "ipython",
    "version": 3
   },
   "file_extension": ".py",
   "mimetype": "text/x-python",
   "name": "python",
   "nbconvert_exporter": "python",
   "pygments_lexer": "ipython3",
   "version": "3.11.7"
  },
  "papermill": {
   "duration": 8.368648,
   "end_time": "2020-10-31T13:35:27.775640",
   "environment_variables": {},
   "exception": null,
   "input_path": "__notebook__.ipynb",
   "output_path": "__notebook__.ipynb",
   "parameters": {},
   "start_time": "2020-10-31T13:35:19.406992",
   "version": "2.1.0"
  }
 },
 "nbformat": 4,
 "nbformat_minor": 4
}
