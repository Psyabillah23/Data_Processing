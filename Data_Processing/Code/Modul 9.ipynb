{
  "metadata": {
    "kernelspec": {
      "language": "python",
      "display_name": "Python 3",
      "name": "python3"
    },
    "language_info": {
      "pygments_lexer": "ipython3",
      "nbconvert_exporter": "python",
      "version": "3.6.4",
      "file_extension": ".py",
      "codemirror_mode": {
        "name": "ipython",
        "version": 3
      },
      "name": "python",
      "mimetype": "text/x-python"
    },
    "colab": {
      "provenance": []
    }
  },
  "nbformat_minor": 0,
  "nbformat": 4,
  "cells": [
    {
      "source": [
        "# IMPORTANT: RUN THIS CELL IN ORDER TO IMPORT YOUR KAGGLE DATA SOURCES,\n",
        "# THEN FEEL FREE TO DELETE THIS CELL.\n",
        "# NOTE: THIS NOTEBOOK ENVIRONMENT DIFFERS FROM KAGGLE'S PYTHON\n",
        "# ENVIRONMENT SO THERE MAY BE MISSING LIBRARIES USED BY YOUR\n",
        "# NOTEBOOK.\n",
        "import kagglehub\n",
        "cord19_data = kagglehub.dataset_download('fatma98/cord19createdataframe')\n",
        "\n",
        "print('Data source import complete.')\n"
      ],
      "metadata": {
        "id": "9Uj_XHiVpPqz",
        "colab": {
          "base_uri": "https://localhost:8080/"
        },
        "outputId": "9b0ef8bc-1ea9-49af-a6a1-29910800c83d"
      },
      "cell_type": "code",
      "outputs": [
        {
          "output_type": "stream",
          "name": "stdout",
          "text": [
            "Downloading from https://www.kaggle.com/api/v1/datasets/download/fatma98/cord19createdataframe?dataset_version_number=1...\n"
          ]
        },
        {
          "output_type": "stream",
          "name": "stderr",
          "text": [
            "100%|██████████| 467M/467M [00:07<00:00, 66.8MB/s]"
          ]
        },
        {
          "output_type": "stream",
          "name": "stdout",
          "text": [
            "Extracting files...\n"
          ]
        },
        {
          "output_type": "stream",
          "name": "stderr",
          "text": [
            "\n"
          ]
        },
        {
          "output_type": "stream",
          "name": "stdout",
          "text": [
            "Data source import complete.\n"
          ]
        }
      ],
      "execution_count": 1
    },
    {
      "cell_type": "markdown",
      "source": [
        "# Find Similar Documents From Scientific Corpus Using Deep Learning With SciBERT       \n",
        "This kernel is a comprehensive overview of performing semantic similarity of documents with KNN and Cosine Similarity."
      ],
      "metadata": {
        "_uuid": "8f2839f25d086af736a60e9eeb907d3b93b6e0e5",
        "_cell_guid": "b1076dfc-b9ad-4769-8c92-a6c4dae69d19",
        "id": "c6HEd__tpPq1"
      }
    },
    {
      "cell_type": "markdown",
      "source": [
        "# Introduction  \n",
        "When reading an interesting article, you might want to find similar articles from the a large number of candidate publications. Manual processing is obviously not the strategy to go for. Why not take advantage of the power of Artificial Intelligence to solve such problem?\n",
        "From this article, you will be able to use SciBERT and cosine similarity in order to find articles that are most similar in meaning to your specific query.  \n",
        "\n",
        "# Approach    \n",
        "Here are the different steps performed\n",
        "* Data extraction and cleaning   \n",
        "* Data Processing\n",
        "    * Load the pretrained model  \n",
        "    * Vectorize documents\n",
        "     \n",
        "* Semantic Similarity search\n",
        "    * Cosine Similarity   \n",
        "    * k-NN with Faiss"
      ],
      "metadata": {
        "id": "uUVKtL5EpPq2"
      }
    },
    {
      "cell_type": "markdown",
      "source": [
        "# Useful Libraries"
      ],
      "metadata": {
        "id": "H9DvGTSLpPq2"
      }
    },
    {
      "cell_type": "code",
      "source": [
        "\"\"\"\n",
        "Data Loading and other libraries\n",
        "\"\"\"\n",
        "import warnings\n",
        "import pandas as pd\n",
        "import numpy as np\n",
        "from tqdm import tqdm\n",
        "\n",
        "\"\"\"\n",
        "Transformer libraries useful to using the pretrained model and data preprocessing\n",
        "\"\"\"\n",
        "!pip install keras -q\n",
        "import torch\n",
        "from keras.preprocessing.sequence import pad_sequences\n",
        "from transformers import BertTokenizer,  AutoModelForSequenceClassification\n",
        "\n",
        "\"\"\"\n",
        "Similarity search section: cosine similarity search and facebook AI research library\n",
        "\"\"\"\n",
        "from sklearn.metrics.pairwise import cosine_similarity\n",
        "!pip install faiss-gpu -q # please uncomment this line when you're running the notebook for the first time\n",
        "import faiss"
      ],
      "metadata": {
        "execution": {
          "iopub.status.busy": "2022-01-15T05:29:52.859131Z",
          "iopub.execute_input": "2022-01-15T05:29:52.859398Z",
          "iopub.status.idle": "2022-01-15T05:29:52.866277Z",
          "shell.execute_reply.started": "2022-01-15T05:29:52.859368Z",
          "shell.execute_reply": "2022-01-15T05:29:52.865552Z"
        },
        "trusted": true,
        "id": "iE0ieUYspPq2"
      },
      "execution_count": 20,
      "outputs": []
    },
    {
      "cell_type": "code",
      "source": [
        "warnings.filterwarnings(\"ignore\")"
      ],
      "metadata": {
        "execution": {
          "iopub.status.busy": "2022-01-15T05:29:52.868997Z",
          "iopub.execute_input": "2022-01-15T05:29:52.869212Z",
          "iopub.status.idle": "2022-01-15T05:29:52.875997Z",
          "shell.execute_reply.started": "2022-01-15T05:29:52.869183Z",
          "shell.execute_reply": "2022-01-15T05:29:52.875355Z"
        },
        "trusted": true,
        "id": "Dl4y2hQNpPq3"
      },
      "execution_count": 21,
      "outputs": []
    },
    {
      "cell_type": "markdown",
      "source": [
        "# About the data   \n",
        "- This CORD-19 data set, a resource of over 59,000 scholarly articles, including over 48,000 with full text, about COVID-19, SARS-CoV-2, and related coronaviruses.\n",
        "- It is downloadable from Kaggle.\n",
        "- Further details about the dataset can be found on this [page](https://www.kaggle.com/danielwolffram/discovid-ai-a-search-and-recommendation-engine/data)."
      ],
      "metadata": {
        "id": "8l5CIlkIpPq3"
      }
    },
    {
      "cell_type": "markdown",
      "source": [
        "#### Data loading"
      ],
      "metadata": {
        "id": "Y4Ts_COapPq3"
      }
    },
    {
      "cell_type": "code",
      "source": [
        "data = pd.read_csv(f\"{cord19_data}/cord19_df.csv\")\n",
        "print(\"Data Shape: {}\".format(data.shape))"
      ],
      "metadata": {
        "execution": {
          "iopub.status.busy": "2022-01-15T05:29:52.877241Z",
          "iopub.execute_input": "2022-01-15T05:29:52.877959Z",
          "iopub.status.idle": "2022-01-15T05:30:10.833902Z",
          "shell.execute_reply.started": "2022-01-15T05:29:52.877923Z",
          "shell.execute_reply": "2022-01-15T05:30:10.833117Z"
        },
        "trusted": true,
        "id": "q9wfJJ5ipPq4",
        "colab": {
          "base_uri": "https://localhost:8080/"
        },
        "outputId": "e64484e7-41fc-4b5a-c96c-759e01cebc59"
      },
      "execution_count": 22,
      "outputs": [
        {
          "output_type": "stream",
          "name": "stdout",
          "text": [
            "Data Shape: (47110, 16)\n"
          ]
        }
      ]
    },
    {
      "cell_type": "code",
      "source": [
        "# Percentage of missing column values\n",
        "percent_missing = data.isnull().sum() * 100 / len(data)\n",
        "percent_missing"
      ],
      "metadata": {
        "execution": {
          "iopub.status.busy": "2022-01-15T05:30:10.835618Z",
          "iopub.execute_input": "2022-01-15T05:30:10.836049Z",
          "iopub.status.idle": "2022-01-15T05:30:10.911858Z",
          "shell.execute_reply.started": "2022-01-15T05:30:10.836009Z",
          "shell.execute_reply": "2022-01-15T05:30:10.910922Z"
        },
        "trusted": true,
        "id": "J4M1ECvbpPq4",
        "colab": {
          "base_uri": "https://localhost:8080/",
          "height": 585
        },
        "outputId": "747eceeb-cb3c-4fe9-f315-f90d476c3946"
      },
      "execution_count": 23,
      "outputs": [
        {
          "output_type": "execute_result",
          "data": {
            "text/plain": [
              "paper_id         0.000000\n",
              "body_text        0.000000\n",
              "methods         58.439822\n",
              "results         63.984292\n",
              "source          10.365103\n",
              "title           10.439397\n",
              "doi             12.604543\n",
              "abstract        12.838039\n",
              "publish_time    10.365103\n",
              "authors         11.676926\n",
              "journal         18.199958\n",
              "arxiv_id        98.681809\n",
              "url             10.617703\n",
              "publish_year     0.000000\n",
              "is_covid19       0.000000\n",
              "study_design     0.000000\n",
              "dtype: float64"
            ],
            "text/html": [
              "<div>\n",
              "<style scoped>\n",
              "    .dataframe tbody tr th:only-of-type {\n",
              "        vertical-align: middle;\n",
              "    }\n",
              "\n",
              "    .dataframe tbody tr th {\n",
              "        vertical-align: top;\n",
              "    }\n",
              "\n",
              "    .dataframe thead th {\n",
              "        text-align: right;\n",
              "    }\n",
              "</style>\n",
              "<table border=\"1\" class=\"dataframe\">\n",
              "  <thead>\n",
              "    <tr style=\"text-align: right;\">\n",
              "      <th></th>\n",
              "      <th>0</th>\n",
              "    </tr>\n",
              "  </thead>\n",
              "  <tbody>\n",
              "    <tr>\n",
              "      <th>paper_id</th>\n",
              "      <td>0.000000</td>\n",
              "    </tr>\n",
              "    <tr>\n",
              "      <th>body_text</th>\n",
              "      <td>0.000000</td>\n",
              "    </tr>\n",
              "    <tr>\n",
              "      <th>methods</th>\n",
              "      <td>58.439822</td>\n",
              "    </tr>\n",
              "    <tr>\n",
              "      <th>results</th>\n",
              "      <td>63.984292</td>\n",
              "    </tr>\n",
              "    <tr>\n",
              "      <th>source</th>\n",
              "      <td>10.365103</td>\n",
              "    </tr>\n",
              "    <tr>\n",
              "      <th>title</th>\n",
              "      <td>10.439397</td>\n",
              "    </tr>\n",
              "    <tr>\n",
              "      <th>doi</th>\n",
              "      <td>12.604543</td>\n",
              "    </tr>\n",
              "    <tr>\n",
              "      <th>abstract</th>\n",
              "      <td>12.838039</td>\n",
              "    </tr>\n",
              "    <tr>\n",
              "      <th>publish_time</th>\n",
              "      <td>10.365103</td>\n",
              "    </tr>\n",
              "    <tr>\n",
              "      <th>authors</th>\n",
              "      <td>11.676926</td>\n",
              "    </tr>\n",
              "    <tr>\n",
              "      <th>journal</th>\n",
              "      <td>18.199958</td>\n",
              "    </tr>\n",
              "    <tr>\n",
              "      <th>arxiv_id</th>\n",
              "      <td>98.681809</td>\n",
              "    </tr>\n",
              "    <tr>\n",
              "      <th>url</th>\n",
              "      <td>10.617703</td>\n",
              "    </tr>\n",
              "    <tr>\n",
              "      <th>publish_year</th>\n",
              "      <td>0.000000</td>\n",
              "    </tr>\n",
              "    <tr>\n",
              "      <th>is_covid19</th>\n",
              "      <td>0.000000</td>\n",
              "    </tr>\n",
              "    <tr>\n",
              "      <th>study_design</th>\n",
              "      <td>0.000000</td>\n",
              "    </tr>\n",
              "  </tbody>\n",
              "</table>\n",
              "</div><br><label><b>dtype:</b> float64</label>"
            ]
          },
          "metadata": {},
          "execution_count": 23
        }
      ]
    },
    {
      "cell_type": "markdown",
      "source": [
        "There are 47110 articles overall, each one having 16 columns.\n",
        "\n",
        "**Note**: We will focuse our analysis on the **abstract** column for simplicity sake, also it is the one with 0% missing data. But you could use other textual columns such as **body_text**; it is up to you.\n",
        "On the other hand, we will use 500 observation in order to speed the processing."
      ],
      "metadata": {
        "id": "FA6ieCFSpPq4"
      }
    },
    {
      "cell_type": "code",
      "source": [
        "# remove articles with missing abstract\n",
        "data = data.dropna(subset = ['abstract'])\n",
        "data = data.reset_index(drop = True)\n",
        "percent_missing = data.isnull().sum() * 100 / len(data)\n",
        "print(\"Data Shape: {}\".format(data.shape))\n",
        "percent_missing"
      ],
      "metadata": {
        "execution": {
          "iopub.status.busy": "2022-01-15T05:30:10.913425Z",
          "iopub.execute_input": "2022-01-15T05:30:10.913719Z",
          "iopub.status.idle": "2022-01-15T05:30:11.028775Z",
          "shell.execute_reply.started": "2022-01-15T05:30:10.913682Z",
          "shell.execute_reply": "2022-01-15T05:30:11.027821Z"
        },
        "trusted": true,
        "id": "iLVmSeegpPq4",
        "colab": {
          "base_uri": "https://localhost:8080/",
          "height": 603
        },
        "outputId": "96a7ec60-367c-4a7c-dfad-04b1893aa2ea"
      },
      "execution_count": 24,
      "outputs": [
        {
          "output_type": "stream",
          "name": "stdout",
          "text": [
            "Data Shape: (41062, 16)\n"
          ]
        },
        {
          "output_type": "execute_result",
          "data": {
            "text/plain": [
              "paper_id         0.000000\n",
              "body_text        0.000000\n",
              "methods         53.796698\n",
              "results         59.466173\n",
              "source           8.645463\n",
              "title            8.723394\n",
              "doi             11.095417\n",
              "abstract         0.000000\n",
              "publish_time     8.645463\n",
              "authors          9.432078\n",
              "journal         17.473577\n",
              "arxiv_id        98.487653\n",
              "url              8.927963\n",
              "publish_year     0.000000\n",
              "is_covid19       0.000000\n",
              "study_design     0.000000\n",
              "dtype: float64"
            ],
            "text/html": [
              "<div>\n",
              "<style scoped>\n",
              "    .dataframe tbody tr th:only-of-type {\n",
              "        vertical-align: middle;\n",
              "    }\n",
              "\n",
              "    .dataframe tbody tr th {\n",
              "        vertical-align: top;\n",
              "    }\n",
              "\n",
              "    .dataframe thead th {\n",
              "        text-align: right;\n",
              "    }\n",
              "</style>\n",
              "<table border=\"1\" class=\"dataframe\">\n",
              "  <thead>\n",
              "    <tr style=\"text-align: right;\">\n",
              "      <th></th>\n",
              "      <th>0</th>\n",
              "    </tr>\n",
              "  </thead>\n",
              "  <tbody>\n",
              "    <tr>\n",
              "      <th>paper_id</th>\n",
              "      <td>0.000000</td>\n",
              "    </tr>\n",
              "    <tr>\n",
              "      <th>body_text</th>\n",
              "      <td>0.000000</td>\n",
              "    </tr>\n",
              "    <tr>\n",
              "      <th>methods</th>\n",
              "      <td>53.796698</td>\n",
              "    </tr>\n",
              "    <tr>\n",
              "      <th>results</th>\n",
              "      <td>59.466173</td>\n",
              "    </tr>\n",
              "    <tr>\n",
              "      <th>source</th>\n",
              "      <td>8.645463</td>\n",
              "    </tr>\n",
              "    <tr>\n",
              "      <th>title</th>\n",
              "      <td>8.723394</td>\n",
              "    </tr>\n",
              "    <tr>\n",
              "      <th>doi</th>\n",
              "      <td>11.095417</td>\n",
              "    </tr>\n",
              "    <tr>\n",
              "      <th>abstract</th>\n",
              "      <td>0.000000</td>\n",
              "    </tr>\n",
              "    <tr>\n",
              "      <th>publish_time</th>\n",
              "      <td>8.645463</td>\n",
              "    </tr>\n",
              "    <tr>\n",
              "      <th>authors</th>\n",
              "      <td>9.432078</td>\n",
              "    </tr>\n",
              "    <tr>\n",
              "      <th>journal</th>\n",
              "      <td>17.473577</td>\n",
              "    </tr>\n",
              "    <tr>\n",
              "      <th>arxiv_id</th>\n",
              "      <td>98.487653</td>\n",
              "    </tr>\n",
              "    <tr>\n",
              "      <th>url</th>\n",
              "      <td>8.927963</td>\n",
              "    </tr>\n",
              "    <tr>\n",
              "      <th>publish_year</th>\n",
              "      <td>0.000000</td>\n",
              "    </tr>\n",
              "    <tr>\n",
              "      <th>is_covid19</th>\n",
              "      <td>0.000000</td>\n",
              "    </tr>\n",
              "    <tr>\n",
              "      <th>study_design</th>\n",
              "      <td>0.000000</td>\n",
              "    </tr>\n",
              "  </tbody>\n",
              "</table>\n",
              "</div><br><label><b>dtype:</b> float64</label>"
            ]
          },
          "metadata": {},
          "execution_count": 24
        }
      ]
    },
    {
      "cell_type": "code",
      "source": [
        "# Show first N (default value is 100) words of each of the #total_number random articles\n",
        "def show_random_articles(total_number, df, n=100):\n",
        "\n",
        "    # Get the random number of articles\n",
        "    n_reviews = df.sample(total_number)\n",
        "\n",
        "    # Print each one of the articles\n",
        "    for val in list(n_reviews.index):\n",
        "        print(\"Article #{}\".format(val))\n",
        "        print(\" --> Title: {}\".format(df.iloc[val][\"title\"]))\n",
        "        print(\" --> Abstract: {} ...\".format(\" \".join(df.iloc[val][\"abstract\"].split()[:n])))\n",
        "        print(\"\\n\")\n",
        "\n",
        "# Show 3 random headlines\n",
        "show_random_articles(3, data)"
      ],
      "metadata": {
        "execution": {
          "iopub.status.busy": "2022-01-15T05:30:11.031274Z",
          "iopub.execute_input": "2022-01-15T05:30:11.03157Z",
          "iopub.status.idle": "2022-01-15T05:30:11.046526Z",
          "shell.execute_reply.started": "2022-01-15T05:30:11.031532Z",
          "shell.execute_reply": "2022-01-15T05:30:11.045567Z"
        },
        "trusted": true,
        "id": "7P1gLpUlpPq4",
        "colab": {
          "base_uri": "https://localhost:8080/"
        },
        "outputId": "db557181-2e76-4df0-895b-6e4a04de7a79"
      },
      "execution_count": 25,
      "outputs": [
        {
          "output_type": "stream",
          "name": "stdout",
          "text": [
            "Article #8229\n",
            " --> Title: The Identification of a Calmodulin-Binding Domain within the Cytoplasmic Tail of Angiotensin-Converting Enzyme-2\n",
            " --> Abstract: Angiotensin-converting enzyme (ACE)-2 is a homolog of the well-characterized plasma membrane-bound angiotensin-converting enzyme. ACE2 is thought to play a critical role in regulating heart function, and in 2003, ACE2 was identified as a functional receptor for severe acute respiratory syndrome coronavirus. We have recently shown that like ACE, ACE2 undergoes ectodomain shedding and that this shedding event is up-regulated by phorbol esters. In the present study, we used gel shift assays to demonstrate that calmodulin, an intracellular calcium-binding protein implicated in the regulation of other ectodomain shedding events, binds a 16-amino acid synthetic peptide corresponding to residues 762–777 within the ...\n",
            "\n",
            "\n",
            "Article #30814\n",
            " --> Title: Are virus infections triggers for autoimmune disease?\n",
            " --> Abstract: Abstract Viruses have been implicated in the initiation, progression, and exacerbation of several human autoimmune diseases, including multiple sclerosis. However, no single virus has been demonstrated as the etiologic agent. Multiple different infections may be involved, first in priming the immune system for autoimmunity and then in triggering the actual disease. A model based on experimental allergic encephalomyelitis, an animal model of multiple sclerosis, has been developed, which shows that an initial early infection with a virus having molecular mimicry to self-epitopes can prime for disease that occurs after a subsequent non-specific immunologic stimulus, such as a different infection. The ...\n",
            "\n",
            "\n",
            "Article #5567\n",
            " --> Title: Usefulness of national respiratory virus surveillance data for clinicians who manage adult patients\n",
            " --> Abstract: The Korean Centers for Disease Control and Prevention (KCDC) provides weekly respiratory virus (RV) surveillance reports on its website (the KCDC data). Clinicians in clinical settings wherein the use of PCR for RVs is not a routine laboratory test for adult patients with acute respiratory illness (ARI) may question the clinical utility of such a national RV surveillance dataset in predicting RV outbreaks among their adult patients. We compared the KCDC data to the RV PCR data of adult patients who visited a tertiary care center. During a period of 108 weeks, a total of 6955 (5598 pediatric and 1257 ...\n",
            "\n",
            "\n"
          ]
        }
      ]
    },
    {
      "cell_type": "markdown",
      "source": [
        "# Data Processing & Vectorization     \n",
        "The data processing aims to vectorize the articles' body text so that we can perform the similarity analysis. Since we are dealing with scientific document, we will use the SciBERT model and tokenizer to generate an embedding for each of the articles using their text data.  \n",
        "SciBERT is a pretrained language model for Scientific text data. You can find more information about it on the [Semantic Scholar](https://www.semanticscholar.org/paper/SciBERT%3A-A-Pretrained-Language-Model-for-Scientific-Beltagy-Lo/5e98fe2163640da8ab9695b9ee9c433bb30f5353)   \n",
        "Here is how we proceed:  \n",
        "\n",
        "## Load model artifacts   \n",
        "Load the pretrained model & tokenizer. When loading the pretrained model, we need to set the output_hidden_states to True so that we can extract the embeddings.  "
      ],
      "metadata": {
        "id": "g2_EtifFpPq5"
      }
    },
    {
      "cell_type": "code",
      "source": [
        "# Get the SciBERT pretrained model path from Allen AI repo\n",
        "pretrained_model = 'allenai/scibert_scivocab_uncased'\n",
        "\n",
        "# Get the tokenizer from the previous path\n",
        "sciBERT_tokenizer = BertTokenizer.from_pretrained(pretrained_model,\n",
        "                                          do_lower_case=True)\n",
        "\n",
        "# Get the model\n",
        "model = AutoModelForSequenceClassification.from_pretrained(pretrained_model,\n",
        "                                                          output_attentions=False,\n",
        "                                                          output_hidden_states=True)"
      ],
      "metadata": {
        "execution": {
          "iopub.status.busy": "2022-01-15T05:30:11.047831Z",
          "iopub.execute_input": "2022-01-15T05:30:11.048092Z",
          "iopub.status.idle": "2022-01-15T05:30:16.76483Z",
          "shell.execute_reply.started": "2022-01-15T05:30:11.04806Z",
          "shell.execute_reply": "2022-01-15T05:30:16.764127Z"
        },
        "trusted": true,
        "id": "6Hf2JhJhpPq5",
        "colab": {
          "base_uri": "https://localhost:8080/"
        },
        "outputId": "bcb92946-0477-468f-b31f-c62200957b3e"
      },
      "execution_count": 26,
      "outputs": [
        {
          "output_type": "stream",
          "name": "stderr",
          "text": [
            "Some weights of BertForSequenceClassification were not initialized from the model checkpoint at allenai/scibert_scivocab_uncased and are newly initialized: ['classifier.bias', 'classifier.weight']\n",
            "You should probably TRAIN this model on a down-stream task to be able to use it for predictions and inference.\n"
          ]
        }
      ]
    },
    {
      "cell_type": "markdown",
      "source": [
        "## Transform text data to embeddings   \n",
        "This function *convert_single_abstract_to_embedding* is mostly inspired of the BERT Word [Embeddings Tutorial](https://mccormickml.com/2019/05/14/BERT-word-embeddings-tutorial/#3-extracting-embeddings) of Chris McCormick\n",
        "\n",
        "It aims to create an embedding for a given text data using SciBERT pre-trained model."
      ],
      "metadata": {
        "id": "xw3kn0YepPq5"
      }
    },
    {
      "cell_type": "code",
      "source": [
        "def convert_single_abstract_to_embedding(tokenizer, model, in_text, MAX_LEN = 510):\n",
        "\n",
        "    input_ids = tokenizer.encode(\n",
        "                        in_text,\n",
        "                        add_special_tokens = True,\n",
        "                        max_length = MAX_LEN,\n",
        "                   )\n",
        "\n",
        "    results = pad_sequences([input_ids], maxlen=MAX_LEN, dtype=\"long\",\n",
        "                              truncating=\"post\", padding=\"post\")\n",
        "\n",
        "    # Remove the outer list.\n",
        "    input_ids = results[0]\n",
        "\n",
        "    # Create attention masks\n",
        "    attention_mask = [int(i>0) for i in input_ids]\n",
        "\n",
        "    # Convert to tensors.\n",
        "    input_ids = torch.tensor(input_ids)\n",
        "    attention_mask = torch.tensor(attention_mask)\n",
        "\n",
        "    # Add an extra dimension for the \"batch\" (even though there is only one\n",
        "    # input in this batch.)\n",
        "    input_ids = input_ids.unsqueeze(0)\n",
        "    attention_mask = attention_mask.unsqueeze(0)\n",
        "\n",
        "    # Put the model in \"evaluation\" mode, meaning feed-forward operation.\n",
        "    model.eval()\n",
        "\n",
        "    #input_ids = input_ids.to(device)\n",
        "    #attention_mask = attention_mask.to(device)\n",
        "\n",
        "    # Run the text through BERT, and collect all of the hidden states produced\n",
        "    # from all 12 layers.\n",
        "    with torch.no_grad():\n",
        "        logits, encoded_layers = model(\n",
        "                                    input_ids = input_ids,\n",
        "                                    token_type_ids = None,\n",
        "                                    attention_mask = attention_mask,\n",
        "                                    return_dict=False)\n",
        "\n",
        "    layer_i = 12 # The last BERT layer before the classifier.\n",
        "    batch_i = 0 # Only one input in the batch.\n",
        "    token_i = 0 # The first token, corresponding to [CLS]\n",
        "\n",
        "    # Extract the embedding.\n",
        "    embedding = encoded_layers[layer_i][batch_i][token_i]\n",
        "\n",
        "    # Move to the CPU and convert to numpy ndarray.\n",
        "    embedding = embedding.detach().cpu().numpy()\n",
        "\n",
        "    return(embedding)"
      ],
      "metadata": {
        "execution": {
          "iopub.status.busy": "2022-01-15T05:30:16.767154Z",
          "iopub.execute_input": "2022-01-15T05:30:16.767618Z",
          "iopub.status.idle": "2022-01-15T05:30:16.776443Z",
          "shell.execute_reply.started": "2022-01-15T05:30:16.767571Z",
          "shell.execute_reply": "2022-01-15T05:30:16.775508Z"
        },
        "trusted": true,
        "id": "eKcpO2ANpPq5"
      },
      "execution_count": 27,
      "outputs": []
    },
    {
      "cell_type": "markdown",
      "source": [
        "### Test on a single text data  \n",
        "Here we test the function on the \"abstract\" field of the 30th article. You can choose whatever number you want, as long as it exists in the data."
      ],
      "metadata": {
        "id": "fzukSt_1pPq5"
      }
    },
    {
      "cell_type": "code",
      "source": [
        "input_abstract = data.abstract.iloc[30]\n",
        "\n",
        "# Use the model and tokenizer to generate an embedding for the input_abstract\n",
        "abstract_embedding = convert_single_abstract_to_embedding(sciBERT_tokenizer, model, input_abstract)\n",
        "\n",
        "print('Embedding shape: {}'.format(abstract_embedding.shape))"
      ],
      "metadata": {
        "execution": {
          "iopub.status.busy": "2022-01-15T05:30:16.777648Z",
          "iopub.execute_input": "2022-01-15T05:30:16.778679Z",
          "iopub.status.idle": "2022-01-15T05:30:18.157058Z",
          "shell.execute_reply.started": "2022-01-15T05:30:16.77864Z",
          "shell.execute_reply": "2022-01-15T05:30:18.156362Z"
        },
        "trusted": true,
        "id": "aSKA7PMvpPq5",
        "colab": {
          "base_uri": "https://localhost:8080/"
        },
        "outputId": "6bb3c729-e399-4652-8551-26c4b8efa424"
      },
      "execution_count": 28,
      "outputs": [
        {
          "output_type": "stream",
          "name": "stderr",
          "text": [
            "Truncation was not explicitly activated but `max_length` is provided a specific value, please use `truncation=True` to explicitly truncate examples to max length. Defaulting to 'longest_first' truncation strategy. If you encode pairs of sequences (GLUE-style) with the tokenizer you can select this strategy more precisely by providing a specific strategy to `truncation`.\n"
          ]
        },
        {
          "output_type": "stream",
          "name": "stdout",
          "text": [
            "Embedding shape: (768,)\n"
          ]
        }
      ]
    },
    {
      "cell_type": "markdown",
      "source": [
        "**(768,)** means that the embedding is composed of 768 values. Now that the convert from text to embedding works, we can finally apply it to all the our text data. But, before that, we are going to remove some columns from the data, in order to have less columns in the result of the final query search. Also, I selected only 500 articles to perform the analysis, so that the overall processing does not become time-consuming."
      ],
      "metadata": {
        "id": "SyU6VSxupPq5"
      }
    },
    {
      "cell_type": "code",
      "source": [
        "def get_min_viable_data(df, sample_size=100):\n",
        "\n",
        "    # Select only the columns we need for the analysis\n",
        "    useless_cols = ['methods', 'results', 'source', 'doi',\n",
        "           'body_text', 'publish_time', 'authors', 'journal', 'arxiv_id',\n",
        "           'publish_year', 'is_covid19', 'study_design']\n",
        "\n",
        "    df.drop(useless_cols, axis=1, inplace=True)\n",
        "\n",
        "    \"\"\"\n",
        "    It was taking too much time to run the analysis on the overall dataset, so I decided to take\n",
        "    a subset (2000 observations) of the original dataset in order to speed the processing.\n",
        "    \"\"\"\n",
        "\n",
        "    df = df.sample(sample_size)\n",
        "\n",
        "    return df"
      ],
      "metadata": {
        "execution": {
          "iopub.status.busy": "2022-01-15T05:30:18.158342Z",
          "iopub.execute_input": "2022-01-15T05:30:18.161177Z",
          "iopub.status.idle": "2022-01-15T05:30:18.170595Z",
          "shell.execute_reply.started": "2022-01-15T05:30:18.161125Z",
          "shell.execute_reply": "2022-01-15T05:30:18.169719Z"
        },
        "trusted": true,
        "id": "Aqif8jatpPq5"
      },
      "execution_count": 29,
      "outputs": []
    },
    {
      "cell_type": "code",
      "source": [
        "def convert_overall_text_to_embedding(df):\n",
        "\n",
        "    # The list of all the embeddings\n",
        "    embeddings = []\n",
        "\n",
        "    # Get overall text data\n",
        "    overall_text_data = data.abstract.values\n",
        "\n",
        "    # Loop over all the comment and get the embeddings\n",
        "    for abstract in tqdm(overall_text_data):\n",
        "\n",
        "        # Get the embedding\n",
        "        embedding = convert_single_abstract_to_embedding(sciBERT_tokenizer, model, abstract)\n",
        "\n",
        "        #add it to the list\n",
        "        embeddings.append(embedding)\n",
        "\n",
        "    print(\"Conversion Done!\")\n",
        "\n",
        "    return embeddings"
      ],
      "metadata": {
        "execution": {
          "iopub.status.busy": "2022-01-15T05:30:18.174798Z",
          "iopub.execute_input": "2022-01-15T05:30:18.176713Z",
          "iopub.status.idle": "2022-01-15T05:30:18.185547Z",
          "shell.execute_reply.started": "2022-01-15T05:30:18.17558Z",
          "shell.execute_reply": "2022-01-15T05:30:18.184672Z"
        },
        "trusted": true,
        "id": "pD68EikVpPq5"
      },
      "execution_count": 30,
      "outputs": []
    },
    {
      "cell_type": "code",
      "source": [
        "\"\"\"\n",
        "# This task can take a lot of time depending on the sample_size value\n",
        "in the \"get_min_viable_data\" function\n",
        "\"\"\"\n",
        "data = get_min_viable_data(data)\n",
        "embeddings = convert_overall_text_to_embedding(data)"
      ],
      "metadata": {
        "execution": {
          "iopub.status.busy": "2022-01-15T05:30:18.192184Z",
          "iopub.execute_input": "2022-01-15T05:30:18.192716Z",
          "iopub.status.idle": "2022-01-15T06:07:18.759062Z",
          "shell.execute_reply.started": "2022-01-15T05:30:18.19268Z",
          "shell.execute_reply": "2022-01-15T06:07:18.758244Z"
        },
        "trusted": true,
        "id": "eYbx5z8dpPq5",
        "colab": {
          "base_uri": "https://localhost:8080/"
        },
        "outputId": "9207a104-6bd5-4723-dba0-3431778b8ba8"
      },
      "execution_count": 31,
      "outputs": [
        {
          "output_type": "stream",
          "name": "stderr",
          "text": [
            "100%|██████████| 100/100 [03:35<00:00,  2.15s/it]"
          ]
        },
        {
          "output_type": "stream",
          "name": "stdout",
          "text": [
            "Conversion Done!\n"
          ]
        },
        {
          "output_type": "stream",
          "name": "stderr",
          "text": [
            "\n"
          ]
        }
      ]
    },
    {
      "cell_type": "code",
      "source": [
        "# Create a new column that will contain embedding of each body text\n",
        "def create_final_embeddings(df, embeddings):\n",
        "\n",
        "    df[\"embeddings\"] = embeddings\n",
        "    df[\"embeddings\"] = df[\"embeddings\"].apply(lambda emb: np.array(emb))\n",
        "    df[\"embeddings\"] = df[\"embeddings\"].apply(lambda emb: emb.reshape(1, -1))\n",
        "\n",
        "    return df"
      ],
      "metadata": {
        "execution": {
          "iopub.status.busy": "2022-01-15T06:07:18.767793Z",
          "iopub.execute_input": "2022-01-15T06:07:18.768019Z",
          "iopub.status.idle": "2022-01-15T06:07:18.774543Z",
          "shell.execute_reply.started": "2022-01-15T06:07:18.767983Z",
          "shell.execute_reply": "2022-01-15T06:07:18.773862Z"
        },
        "trusted": true,
        "id": "y4ddS10BpPq5"
      },
      "execution_count": 32,
      "outputs": []
    },
    {
      "cell_type": "code",
      "source": [
        "data = create_final_embeddings(data, embeddings)\n",
        "data.head(3)"
      ],
      "metadata": {
        "execution": {
          "iopub.status.busy": "2022-01-15T06:07:18.775721Z",
          "iopub.execute_input": "2022-01-15T06:07:18.776021Z",
          "iopub.status.idle": "2022-01-15T06:07:18.819381Z",
          "shell.execute_reply.started": "2022-01-15T06:07:18.775986Z",
          "shell.execute_reply": "2022-01-15T06:07:18.818674Z"
        },
        "trusted": true,
        "id": "ixdkAmAFpPq6",
        "colab": {
          "base_uri": "https://localhost:8080/",
          "height": 195
        },
        "outputId": "80794397-7e5c-4a38-893f-e10984735584"
      },
      "execution_count": 33,
      "outputs": [
        {
          "output_type": "execute_result",
          "data": {
            "text/plain": [
              "                                       paper_id  \\\n",
              "7357   efd8b5be438ef34572b5b3abccb17ec7ee87a395   \n",
              "14980  44a44adc5bb0f2e966d989c5cf6e21dae8dad268   \n",
              "14054  1e83e99dc7592ff422754a5ecb16127e44503d1d   \n",
              "\n",
              "                                                   title  \\\n",
              "7357      Chapter 3 Clinical Biochemistry and Hematology   \n",
              "14980  Human coronaviruses in severe acute respirator...   \n",
              "14054  Guidelines for Health Organizations: European ...   \n",
              "\n",
              "                                                abstract  \\\n",
              "7357   The sparse information available for multiple ...   \n",
              "14980  Acute viral respiratory infections (AVRI) are ...   \n",
              "14054  In Europe, the rate of noninvasive ventilation...   \n",
              "\n",
              "                                                     url  \\\n",
              "7357   https://doi.org/10.1016/b978-0-12-380920-9.000...   \n",
              "14980  https://www.ncbi.nlm.nih.gov/pmc/articles/PMC7...   \n",
              "14054  https://www.ncbi.nlm.nih.gov/pmc/articles/PMC7...   \n",
              "\n",
              "                                              embeddings  \n",
              "7357   [[-0.5259601, -1.1708553, -0.71766114, -0.4543...  \n",
              "14980  [[-0.8665741, -0.11519499, -0.97434264, 1.1653...  \n",
              "14054  [[-0.29794416, -0.67595786, -0.9586915, 0.2749...  "
            ],
            "text/html": [
              "\n",
              "  <div id=\"df-61bd7ccf-3d78-4ab4-922a-d2a15a651092\" class=\"colab-df-container\">\n",
              "    <div>\n",
              "<style scoped>\n",
              "    .dataframe tbody tr th:only-of-type {\n",
              "        vertical-align: middle;\n",
              "    }\n",
              "\n",
              "    .dataframe tbody tr th {\n",
              "        vertical-align: top;\n",
              "    }\n",
              "\n",
              "    .dataframe thead th {\n",
              "        text-align: right;\n",
              "    }\n",
              "</style>\n",
              "<table border=\"1\" class=\"dataframe\">\n",
              "  <thead>\n",
              "    <tr style=\"text-align: right;\">\n",
              "      <th></th>\n",
              "      <th>paper_id</th>\n",
              "      <th>title</th>\n",
              "      <th>abstract</th>\n",
              "      <th>url</th>\n",
              "      <th>embeddings</th>\n",
              "    </tr>\n",
              "  </thead>\n",
              "  <tbody>\n",
              "    <tr>\n",
              "      <th>7357</th>\n",
              "      <td>efd8b5be438ef34572b5b3abccb17ec7ee87a395</td>\n",
              "      <td>Chapter 3 Clinical Biochemistry and Hematology</td>\n",
              "      <td>The sparse information available for multiple ...</td>\n",
              "      <td>https://doi.org/10.1016/b978-0-12-380920-9.000...</td>\n",
              "      <td>[[-0.5259601, -1.1708553, -0.71766114, -0.4543...</td>\n",
              "    </tr>\n",
              "    <tr>\n",
              "      <th>14980</th>\n",
              "      <td>44a44adc5bb0f2e966d989c5cf6e21dae8dad268</td>\n",
              "      <td>Human coronaviruses in severe acute respirator...</td>\n",
              "      <td>Acute viral respiratory infections (AVRI) are ...</td>\n",
              "      <td>https://www.ncbi.nlm.nih.gov/pmc/articles/PMC7...</td>\n",
              "      <td>[[-0.8665741, -0.11519499, -0.97434264, 1.1653...</td>\n",
              "    </tr>\n",
              "    <tr>\n",
              "      <th>14054</th>\n",
              "      <td>1e83e99dc7592ff422754a5ecb16127e44503d1d</td>\n",
              "      <td>Guidelines for Health Organizations: European ...</td>\n",
              "      <td>In Europe, the rate of noninvasive ventilation...</td>\n",
              "      <td>https://www.ncbi.nlm.nih.gov/pmc/articles/PMC7...</td>\n",
              "      <td>[[-0.29794416, -0.67595786, -0.9586915, 0.2749...</td>\n",
              "    </tr>\n",
              "  </tbody>\n",
              "</table>\n",
              "</div>\n",
              "    <div class=\"colab-df-buttons\">\n",
              "\n",
              "  <div class=\"colab-df-container\">\n",
              "    <button class=\"colab-df-convert\" onclick=\"convertToInteractive('df-61bd7ccf-3d78-4ab4-922a-d2a15a651092')\"\n",
              "            title=\"Convert this dataframe to an interactive table.\"\n",
              "            style=\"display:none;\">\n",
              "\n",
              "  <svg xmlns=\"http://www.w3.org/2000/svg\" height=\"24px\" viewBox=\"0 -960 960 960\">\n",
              "    <path d=\"M120-120v-720h720v720H120Zm60-500h600v-160H180v160Zm220 220h160v-160H400v160Zm0 220h160v-160H400v160ZM180-400h160v-160H180v160Zm440 0h160v-160H620v160ZM180-180h160v-160H180v160Zm440 0h160v-160H620v160Z\"/>\n",
              "  </svg>\n",
              "    </button>\n",
              "\n",
              "  <style>\n",
              "    .colab-df-container {\n",
              "      display:flex;\n",
              "      gap: 12px;\n",
              "    }\n",
              "\n",
              "    .colab-df-convert {\n",
              "      background-color: #E8F0FE;\n",
              "      border: none;\n",
              "      border-radius: 50%;\n",
              "      cursor: pointer;\n",
              "      display: none;\n",
              "      fill: #1967D2;\n",
              "      height: 32px;\n",
              "      padding: 0 0 0 0;\n",
              "      width: 32px;\n",
              "    }\n",
              "\n",
              "    .colab-df-convert:hover {\n",
              "      background-color: #E2EBFA;\n",
              "      box-shadow: 0px 1px 2px rgba(60, 64, 67, 0.3), 0px 1px 3px 1px rgba(60, 64, 67, 0.15);\n",
              "      fill: #174EA6;\n",
              "    }\n",
              "\n",
              "    .colab-df-buttons div {\n",
              "      margin-bottom: 4px;\n",
              "    }\n",
              "\n",
              "    [theme=dark] .colab-df-convert {\n",
              "      background-color: #3B4455;\n",
              "      fill: #D2E3FC;\n",
              "    }\n",
              "\n",
              "    [theme=dark] .colab-df-convert:hover {\n",
              "      background-color: #434B5C;\n",
              "      box-shadow: 0px 1px 3px 1px rgba(0, 0, 0, 0.15);\n",
              "      filter: drop-shadow(0px 1px 2px rgba(0, 0, 0, 0.3));\n",
              "      fill: #FFFFFF;\n",
              "    }\n",
              "  </style>\n",
              "\n",
              "    <script>\n",
              "      const buttonEl =\n",
              "        document.querySelector('#df-61bd7ccf-3d78-4ab4-922a-d2a15a651092 button.colab-df-convert');\n",
              "      buttonEl.style.display =\n",
              "        google.colab.kernel.accessAllowed ? 'block' : 'none';\n",
              "\n",
              "      async function convertToInteractive(key) {\n",
              "        const element = document.querySelector('#df-61bd7ccf-3d78-4ab4-922a-d2a15a651092');\n",
              "        const dataTable =\n",
              "          await google.colab.kernel.invokeFunction('convertToInteractive',\n",
              "                                                    [key], {});\n",
              "        if (!dataTable) return;\n",
              "\n",
              "        const docLinkHtml = 'Like what you see? Visit the ' +\n",
              "          '<a target=\"_blank\" href=https://colab.research.google.com/notebooks/data_table.ipynb>data table notebook</a>'\n",
              "          + ' to learn more about interactive tables.';\n",
              "        element.innerHTML = '';\n",
              "        dataTable['output_type'] = 'display_data';\n",
              "        await google.colab.output.renderOutput(dataTable, element);\n",
              "        const docLink = document.createElement('div');\n",
              "        docLink.innerHTML = docLinkHtml;\n",
              "        element.appendChild(docLink);\n",
              "      }\n",
              "    </script>\n",
              "  </div>\n",
              "\n",
              "\n",
              "<div id=\"df-1e8b951b-cb54-4aa5-b5cf-1cb2f0b92d46\">\n",
              "  <button class=\"colab-df-quickchart\" onclick=\"quickchart('df-1e8b951b-cb54-4aa5-b5cf-1cb2f0b92d46')\"\n",
              "            title=\"Suggest charts\"\n",
              "            style=\"display:none;\">\n",
              "\n",
              "<svg xmlns=\"http://www.w3.org/2000/svg\" height=\"24px\"viewBox=\"0 0 24 24\"\n",
              "     width=\"24px\">\n",
              "    <g>\n",
              "        <path d=\"M19 3H5c-1.1 0-2 .9-2 2v14c0 1.1.9 2 2 2h14c1.1 0 2-.9 2-2V5c0-1.1-.9-2-2-2zM9 17H7v-7h2v7zm4 0h-2V7h2v10zm4 0h-2v-4h2v4z\"/>\n",
              "    </g>\n",
              "</svg>\n",
              "  </button>\n",
              "\n",
              "<style>\n",
              "  .colab-df-quickchart {\n",
              "      --bg-color: #E8F0FE;\n",
              "      --fill-color: #1967D2;\n",
              "      --hover-bg-color: #E2EBFA;\n",
              "      --hover-fill-color: #174EA6;\n",
              "      --disabled-fill-color: #AAA;\n",
              "      --disabled-bg-color: #DDD;\n",
              "  }\n",
              "\n",
              "  [theme=dark] .colab-df-quickchart {\n",
              "      --bg-color: #3B4455;\n",
              "      --fill-color: #D2E3FC;\n",
              "      --hover-bg-color: #434B5C;\n",
              "      --hover-fill-color: #FFFFFF;\n",
              "      --disabled-bg-color: #3B4455;\n",
              "      --disabled-fill-color: #666;\n",
              "  }\n",
              "\n",
              "  .colab-df-quickchart {\n",
              "    background-color: var(--bg-color);\n",
              "    border: none;\n",
              "    border-radius: 50%;\n",
              "    cursor: pointer;\n",
              "    display: none;\n",
              "    fill: var(--fill-color);\n",
              "    height: 32px;\n",
              "    padding: 0;\n",
              "    width: 32px;\n",
              "  }\n",
              "\n",
              "  .colab-df-quickchart:hover {\n",
              "    background-color: var(--hover-bg-color);\n",
              "    box-shadow: 0 1px 2px rgba(60, 64, 67, 0.3), 0 1px 3px 1px rgba(60, 64, 67, 0.15);\n",
              "    fill: var(--button-hover-fill-color);\n",
              "  }\n",
              "\n",
              "  .colab-df-quickchart-complete:disabled,\n",
              "  .colab-df-quickchart-complete:disabled:hover {\n",
              "    background-color: var(--disabled-bg-color);\n",
              "    fill: var(--disabled-fill-color);\n",
              "    box-shadow: none;\n",
              "  }\n",
              "\n",
              "  .colab-df-spinner {\n",
              "    border: 2px solid var(--fill-color);\n",
              "    border-color: transparent;\n",
              "    border-bottom-color: var(--fill-color);\n",
              "    animation:\n",
              "      spin 1s steps(1) infinite;\n",
              "  }\n",
              "\n",
              "  @keyframes spin {\n",
              "    0% {\n",
              "      border-color: transparent;\n",
              "      border-bottom-color: var(--fill-color);\n",
              "      border-left-color: var(--fill-color);\n",
              "    }\n",
              "    20% {\n",
              "      border-color: transparent;\n",
              "      border-left-color: var(--fill-color);\n",
              "      border-top-color: var(--fill-color);\n",
              "    }\n",
              "    30% {\n",
              "      border-color: transparent;\n",
              "      border-left-color: var(--fill-color);\n",
              "      border-top-color: var(--fill-color);\n",
              "      border-right-color: var(--fill-color);\n",
              "    }\n",
              "    40% {\n",
              "      border-color: transparent;\n",
              "      border-right-color: var(--fill-color);\n",
              "      border-top-color: var(--fill-color);\n",
              "    }\n",
              "    60% {\n",
              "      border-color: transparent;\n",
              "      border-right-color: var(--fill-color);\n",
              "    }\n",
              "    80% {\n",
              "      border-color: transparent;\n",
              "      border-right-color: var(--fill-color);\n",
              "      border-bottom-color: var(--fill-color);\n",
              "    }\n",
              "    90% {\n",
              "      border-color: transparent;\n",
              "      border-bottom-color: var(--fill-color);\n",
              "    }\n",
              "  }\n",
              "</style>\n",
              "\n",
              "  <script>\n",
              "    async function quickchart(key) {\n",
              "      const quickchartButtonEl =\n",
              "        document.querySelector('#' + key + ' button');\n",
              "      quickchartButtonEl.disabled = true;  // To prevent multiple clicks.\n",
              "      quickchartButtonEl.classList.add('colab-df-spinner');\n",
              "      try {\n",
              "        const charts = await google.colab.kernel.invokeFunction(\n",
              "            'suggestCharts', [key], {});\n",
              "      } catch (error) {\n",
              "        console.error('Error during call to suggestCharts:', error);\n",
              "      }\n",
              "      quickchartButtonEl.classList.remove('colab-df-spinner');\n",
              "      quickchartButtonEl.classList.add('colab-df-quickchart-complete');\n",
              "    }\n",
              "    (() => {\n",
              "      let quickchartButtonEl =\n",
              "        document.querySelector('#df-1e8b951b-cb54-4aa5-b5cf-1cb2f0b92d46 button');\n",
              "      quickchartButtonEl.style.display =\n",
              "        google.colab.kernel.accessAllowed ? 'block' : 'none';\n",
              "    })();\n",
              "  </script>\n",
              "</div>\n",
              "\n",
              "    </div>\n",
              "  </div>\n"
            ],
            "application/vnd.google.colaboratory.intrinsic+json": {
              "type": "dataframe",
              "variable_name": "data",
              "summary": "{\n  \"name\": \"data\",\n  \"rows\": 100,\n  \"fields\": [\n    {\n      \"column\": \"paper_id\",\n      \"properties\": {\n        \"dtype\": \"string\",\n        \"num_unique_values\": 100,\n        \"samples\": [\n          \"609eb041407dc9f78347e86e9b226481f2553b03\",\n          \"de925d6c5bc669b0ada19aedaf299dfaed7445ad\",\n          \"684e32316dab2cbd1e319077b95b40a29c896fd0\"\n        ],\n        \"semantic_type\": \"\",\n        \"description\": \"\"\n      }\n    },\n    {\n      \"column\": \"title\",\n      \"properties\": {\n        \"dtype\": \"string\",\n        \"num_unique_values\": 92,\n        \"samples\": [\n          \"Characterisation of the transcriptome and proteome of SARS-CoV-2 using direct RNA sequencing and tandem mass spectrometry reveals evidence for a cell passage induced in-frame deletion in the spike glycoprotein that removes the furin-like cleavage site.\",\n          \"Improving adherence to lung cancer guidelines: a quality improvement project that uses chart review, audit and feedback approach\",\n          \"Quantification of mRNA encoding cytokines and chemokines and assessment of ciliary function in canine tracheal epithelium during infection with canine respiratory coronavirus (CRCoV)\"\n        ],\n        \"semantic_type\": \"\",\n        \"description\": \"\"\n      }\n    },\n    {\n      \"column\": \"abstract\",\n      \"properties\": {\n        \"dtype\": \"string\",\n        \"num_unique_values\": 100,\n        \"samples\": [\n          \"Predicting the future course of an epidemic depends on being able to estimate the current numbers of infected individuals. However, while back-projection techniques allow reliable estimation of the numbers of infected individuals in the more distant past, they are less reliable in the recent past. We propose two new nonparametric methods to estimate the unobserved numbers of infected individuals in the recent past in an epidemic. The proposed methods are noniterative, easily computed and asymptotically normal with simple variance formulas. Simulations show that the proposed methods are much more robust and accurate than the existing back projection method, especially for the recent past, which is our primary interest. We apply the proposed methods to the 2003 Severe Acute Respiratory Syndorme (SARS) epidemic in Hong Kong.\",\n          \"Migration has deep historical roots in South and Southern Africa and to this day continues to be highly prevalent and a major factor shaping South African society and health. In this paper we examine the role of migration in the spread of two diseases nearly 100 years apart: tuberculosis following the discovery of gold in 1886 and HIV in the early 1990s. Both cases demonstrate the critical role played by human migration in the transmission and subsequent dissemination of these diseases to rural areas. In both cases, migration acts to assemble in one high-risk environment thousands of young men highly susceptible to new diseases. With poor living and working conditions, these migration destinations act as hot-spots for disease transmission. Migration of workers back to rural areas then serves as a highly efficient means of disseminating these diseases to rural populations. We conclude by raising some more recent questions examining the current role of migration in Southern Africa.\",\n          \"Abstract The prevalence and geographical distribution of some economically important swine diseases were surveyed in 114 randomly selected farrowing units which had a contract with Southwestern Finland's Cooperative Slaughterhouse (LSO) for producing feeder pigs to be delivered to the all in-all out finishing units. The focus was on infectious diseases which could be transmitted to the finishing units with delivered growers, and which might have some influence on partial carcass condemnations (PCC) in meat inspection. Farm visits were done by a veterinarian (senior author) assisted by a technician. Colostrum samples (average 22 per herd) were taken in 100 herds, and analyzed for Actinobacillus pleuropneumoniae (A. pleur) and Mycoplasma hyopneumoniae (M.hyo) antibodies by enzyme-linked immunosorbent assays (ELISAs). Only nine of 114 herds were judged to be free of mange. It was concluded that all finishing units received mange-infected feeder pigs each time the unit was filled. One or more acute erysipelas outbreaks had occurred in every fifth herd during the previous year. The risk of a finishing unit receiving feeder pigs carrying erysipelas was considered to be high. Swine dysentery (Serpulina hyodysenteriae) was not found to be a problem in the LSO area. Clostridium perfringens type C enteritis was found in eight (7%) herds. Seven of these herds were located in those supply areas where the PCC percentage of feeder pigs was high. In spite of statistical connection no causality between this disease and PCC was presumed. There were no previous diagnoses of respiratory diseases but spontaneous coughing was observed in 5% of the herds. Provocation testing induced coughing in 22% of herds but not serious coughing in any herd. Managers had observed coughing in 15% of herds. Ninety-one herds were positive in a colostrum ELISA for A. pleur antibodies, and eight herds were positive for M.hyo antibodies. A.pleur-positive herds had several positive or samples suspected of being positive in each herd bu M.hyo-positive herds had only one or two positive or suspected samples per herd. Six of the M.hyo herds were located in the high PCC area, two in the average PCC area and none in the low PCC area. M.hyo was suggested to be one of the possible explanations for geographical variation of PCC. Atrophic rhinitis was not considered to be of importance in LSO.\"\n        ],\n        \"semantic_type\": \"\",\n        \"description\": \"\"\n      }\n    },\n    {\n      \"column\": \"url\",\n      \"properties\": {\n        \"dtype\": \"string\",\n        \"num_unique_values\": 92,\n        \"samples\": [\n          \"https://doi.org/10.1101/2020.03.22.002204\",\n          \"https://www.ncbi.nlm.nih.gov/pmc/articles/PMC6711445/\",\n          \"https://doi.org/10.1016/j.vetimm.2008.09.017\"\n        ],\n        \"semantic_type\": \"\",\n        \"description\": \"\"\n      }\n    },\n    {\n      \"column\": \"embeddings\",\n      \"properties\": {\n        \"dtype\": \"object\",\n        \"semantic_type\": \"\",\n        \"description\": \"\"\n      }\n    }\n  ]\n}"
            }
          },
          "metadata": {},
          "execution_count": 33
        }
      ]
    },
    {
      "cell_type": "markdown",
      "source": [
        "# Similarity Search   \n",
        "Each of the body text data has a corresponding embedding. Now, we can perform the similarity analysis between a given ***query*** vector and all the embeddings vectors. The scope of this article is limited to:  \n",
        "- Cosine similarity which ...     \n",
        "- k-Nearest Neighbor (KNN) search"
      ],
      "metadata": {
        "id": "tk1_IbNSpPq6"
      }
    },
    {
      "cell_type": "markdown",
      "source": [
        "## Utility functions"
      ],
      "metadata": {
        "id": "laUZOqnLpPq6"
      }
    },
    {
      "cell_type": "code",
      "source": [
        "def process_query(query_text):\n",
        "    \"\"\"\n",
        "    # Create a vector for given query and adjust it for cosine similarity search\n",
        "    \"\"\"\n",
        "\n",
        "    query_vect = convert_single_abstract_to_embedding(sciBERT_tokenizer, model, query_text)\n",
        "    query_vect = np.array(query_vect)\n",
        "    query_vect = query_vect.reshape(1, -1)\n",
        "    return query_vect\n",
        "\n",
        "\n",
        "def get_top_N_articles_cosine(query_text, data, top_N=5):\n",
        "    \"\"\"\n",
        "    Retrieve top_N (5 is default value) articles similar to the query\n",
        "    \"\"\"\n",
        "    query_vect = process_query(query_text)\n",
        "    revevant_cols = [\"title\", \"abstract\", \"url\", \"cos_sim\"]\n",
        "\n",
        "    # Run similarity Search\n",
        "    data[\"cos_sim\"] = data[\"embeddings\"].apply(lambda x: cosine_similarity(query_vect, x))\n",
        "    data[\"cos_sim\"] = data[\"cos_sim\"].apply(lambda x: x[0][0])\n",
        "\n",
        "    \"\"\"\n",
        "    Sort Cosine Similarity Column in Descending Order\n",
        "    Here we start at 1 to remove similarity with itself because it is always 1\n",
        "    \"\"\"\n",
        "    moost_similar_articles = data.sort_values(by='cos_sim', ascending=False)[1:top_N+1]\n",
        "\n",
        "    return moost_similar_articles[revevant_cols]"
      ],
      "metadata": {
        "execution": {
          "iopub.status.busy": "2022-01-15T06:07:18.820712Z",
          "iopub.execute_input": "2022-01-15T06:07:18.821189Z",
          "iopub.status.idle": "2022-01-15T06:07:18.829198Z",
          "shell.execute_reply.started": "2022-01-15T06:07:18.821141Z",
          "shell.execute_reply": "2022-01-15T06:07:18.828395Z"
        },
        "trusted": true,
        "id": "cy6VHCh7pPq6"
      },
      "execution_count": 34,
      "outputs": []
    },
    {
      "cell_type": "markdown",
      "source": [
        "### Similarity Search with Cosine"
      ],
      "metadata": {
        "id": "44TAcI7KpPq6"
      }
    },
    {
      "cell_type": "code",
      "source": [
        "query_text_test = data.iloc[0].abstract\n",
        "\n",
        "top_articles = get_top_N_articles_cosine(query_text_test, data)"
      ],
      "metadata": {
        "execution": {
          "iopub.status.busy": "2022-01-15T06:07:18.830481Z",
          "iopub.execute_input": "2022-01-15T06:07:18.830736Z",
          "iopub.status.idle": "2022-01-15T06:07:20.410917Z",
          "shell.execute_reply.started": "2022-01-15T06:07:18.830702Z",
          "shell.execute_reply": "2022-01-15T06:07:20.410215Z"
        },
        "trusted": true,
        "id": "9pdJyE6IpPq6"
      },
      "execution_count": 35,
      "outputs": []
    },
    {
      "cell_type": "code",
      "source": [
        "top_articles"
      ],
      "metadata": {
        "execution": {
          "iopub.status.busy": "2022-01-15T06:07:20.412371Z",
          "iopub.execute_input": "2022-01-15T06:07:20.412607Z",
          "iopub.status.idle": "2022-01-15T06:07:20.423Z",
          "shell.execute_reply.started": "2022-01-15T06:07:20.412576Z",
          "shell.execute_reply": "2022-01-15T06:07:20.422375Z"
        },
        "trusted": true,
        "id": "wRXlnsqYpPq6",
        "colab": {
          "base_uri": "https://localhost:8080/",
          "height": 206
        },
        "outputId": "d5f3d280-7dde-464f-b6bf-760841b93ad4"
      },
      "execution_count": 36,
      "outputs": [
        {
          "output_type": "execute_result",
          "data": {
            "text/plain": [
              "                                                   title  \\\n",
              "25816                                 Chapter 52 Gerbils   \n",
              "34498  Perspectives on Immunoglobulins in Colostrum a...   \n",
              "28252  Contamination, Disinfection, and Cross-Coloniz...   \n",
              "13335                      Influenza and Viral Pneumonia   \n",
              "26174                            Picornavirus inhibitors   \n",
              "\n",
              "                                                abstract  \\\n",
              "25816  The chapter provides an overview of the taxono...   \n",
              "34498  Immunoglobulins form an important component of...   \n",
              "28252  Despite documentation that the inanimate hospi...   \n",
              "13335  Influenza and other respiratory viruses are co...   \n",
              "26174  Abstract Picornaviruses are among the best und...   \n",
              "\n",
              "                                                     url   cos_sim  \n",
              "25816  https://doi.org/10.1016/b978-0-12-380920-9.000...  0.875164  \n",
              "34498  https://www.ncbi.nlm.nih.gov/pmc/articles/PMC3...  0.802031  \n",
              "28252  https://www.ncbi.nlm.nih.gov/pmc/articles/PMC7...  0.798631  \n",
              "13335          https://doi.org/10.1016/j.ccm.2018.07.005  0.775425  \n",
              "26174       https://doi.org/10.1016/0163-7258(94)90040-x  0.774164  "
            ],
            "text/html": [
              "\n",
              "  <div id=\"df-9f10b99b-b659-4559-a6d0-d71d35c0b6d8\" class=\"colab-df-container\">\n",
              "    <div>\n",
              "<style scoped>\n",
              "    .dataframe tbody tr th:only-of-type {\n",
              "        vertical-align: middle;\n",
              "    }\n",
              "\n",
              "    .dataframe tbody tr th {\n",
              "        vertical-align: top;\n",
              "    }\n",
              "\n",
              "    .dataframe thead th {\n",
              "        text-align: right;\n",
              "    }\n",
              "</style>\n",
              "<table border=\"1\" class=\"dataframe\">\n",
              "  <thead>\n",
              "    <tr style=\"text-align: right;\">\n",
              "      <th></th>\n",
              "      <th>title</th>\n",
              "      <th>abstract</th>\n",
              "      <th>url</th>\n",
              "      <th>cos_sim</th>\n",
              "    </tr>\n",
              "  </thead>\n",
              "  <tbody>\n",
              "    <tr>\n",
              "      <th>25816</th>\n",
              "      <td>Chapter 52 Gerbils</td>\n",
              "      <td>The chapter provides an overview of the taxono...</td>\n",
              "      <td>https://doi.org/10.1016/b978-0-12-380920-9.000...</td>\n",
              "      <td>0.875164</td>\n",
              "    </tr>\n",
              "    <tr>\n",
              "      <th>34498</th>\n",
              "      <td>Perspectives on Immunoglobulins in Colostrum a...</td>\n",
              "      <td>Immunoglobulins form an important component of...</td>\n",
              "      <td>https://www.ncbi.nlm.nih.gov/pmc/articles/PMC3...</td>\n",
              "      <td>0.802031</td>\n",
              "    </tr>\n",
              "    <tr>\n",
              "      <th>28252</th>\n",
              "      <td>Contamination, Disinfection, and Cross-Coloniz...</td>\n",
              "      <td>Despite documentation that the inanimate hospi...</td>\n",
              "      <td>https://www.ncbi.nlm.nih.gov/pmc/articles/PMC7...</td>\n",
              "      <td>0.798631</td>\n",
              "    </tr>\n",
              "    <tr>\n",
              "      <th>13335</th>\n",
              "      <td>Influenza and Viral Pneumonia</td>\n",
              "      <td>Influenza and other respiratory viruses are co...</td>\n",
              "      <td>https://doi.org/10.1016/j.ccm.2018.07.005</td>\n",
              "      <td>0.775425</td>\n",
              "    </tr>\n",
              "    <tr>\n",
              "      <th>26174</th>\n",
              "      <td>Picornavirus inhibitors</td>\n",
              "      <td>Abstract Picornaviruses are among the best und...</td>\n",
              "      <td>https://doi.org/10.1016/0163-7258(94)90040-x</td>\n",
              "      <td>0.774164</td>\n",
              "    </tr>\n",
              "  </tbody>\n",
              "</table>\n",
              "</div>\n",
              "    <div class=\"colab-df-buttons\">\n",
              "\n",
              "  <div class=\"colab-df-container\">\n",
              "    <button class=\"colab-df-convert\" onclick=\"convertToInteractive('df-9f10b99b-b659-4559-a6d0-d71d35c0b6d8')\"\n",
              "            title=\"Convert this dataframe to an interactive table.\"\n",
              "            style=\"display:none;\">\n",
              "\n",
              "  <svg xmlns=\"http://www.w3.org/2000/svg\" height=\"24px\" viewBox=\"0 -960 960 960\">\n",
              "    <path d=\"M120-120v-720h720v720H120Zm60-500h600v-160H180v160Zm220 220h160v-160H400v160Zm0 220h160v-160H400v160ZM180-400h160v-160H180v160Zm440 0h160v-160H620v160ZM180-180h160v-160H180v160Zm440 0h160v-160H620v160Z\"/>\n",
              "  </svg>\n",
              "    </button>\n",
              "\n",
              "  <style>\n",
              "    .colab-df-container {\n",
              "      display:flex;\n",
              "      gap: 12px;\n",
              "    }\n",
              "\n",
              "    .colab-df-convert {\n",
              "      background-color: #E8F0FE;\n",
              "      border: none;\n",
              "      border-radius: 50%;\n",
              "      cursor: pointer;\n",
              "      display: none;\n",
              "      fill: #1967D2;\n",
              "      height: 32px;\n",
              "      padding: 0 0 0 0;\n",
              "      width: 32px;\n",
              "    }\n",
              "\n",
              "    .colab-df-convert:hover {\n",
              "      background-color: #E2EBFA;\n",
              "      box-shadow: 0px 1px 2px rgba(60, 64, 67, 0.3), 0px 1px 3px 1px rgba(60, 64, 67, 0.15);\n",
              "      fill: #174EA6;\n",
              "    }\n",
              "\n",
              "    .colab-df-buttons div {\n",
              "      margin-bottom: 4px;\n",
              "    }\n",
              "\n",
              "    [theme=dark] .colab-df-convert {\n",
              "      background-color: #3B4455;\n",
              "      fill: #D2E3FC;\n",
              "    }\n",
              "\n",
              "    [theme=dark] .colab-df-convert:hover {\n",
              "      background-color: #434B5C;\n",
              "      box-shadow: 0px 1px 3px 1px rgba(0, 0, 0, 0.15);\n",
              "      filter: drop-shadow(0px 1px 2px rgba(0, 0, 0, 0.3));\n",
              "      fill: #FFFFFF;\n",
              "    }\n",
              "  </style>\n",
              "\n",
              "    <script>\n",
              "      const buttonEl =\n",
              "        document.querySelector('#df-9f10b99b-b659-4559-a6d0-d71d35c0b6d8 button.colab-df-convert');\n",
              "      buttonEl.style.display =\n",
              "        google.colab.kernel.accessAllowed ? 'block' : 'none';\n",
              "\n",
              "      async function convertToInteractive(key) {\n",
              "        const element = document.querySelector('#df-9f10b99b-b659-4559-a6d0-d71d35c0b6d8');\n",
              "        const dataTable =\n",
              "          await google.colab.kernel.invokeFunction('convertToInteractive',\n",
              "                                                    [key], {});\n",
              "        if (!dataTable) return;\n",
              "\n",
              "        const docLinkHtml = 'Like what you see? Visit the ' +\n",
              "          '<a target=\"_blank\" href=https://colab.research.google.com/notebooks/data_table.ipynb>data table notebook</a>'\n",
              "          + ' to learn more about interactive tables.';\n",
              "        element.innerHTML = '';\n",
              "        dataTable['output_type'] = 'display_data';\n",
              "        await google.colab.output.renderOutput(dataTable, element);\n",
              "        const docLink = document.createElement('div');\n",
              "        docLink.innerHTML = docLinkHtml;\n",
              "        element.appendChild(docLink);\n",
              "      }\n",
              "    </script>\n",
              "  </div>\n",
              "\n",
              "\n",
              "<div id=\"df-7f1d3d7b-fd01-4160-bfda-8debad76f8e6\">\n",
              "  <button class=\"colab-df-quickchart\" onclick=\"quickchart('df-7f1d3d7b-fd01-4160-bfda-8debad76f8e6')\"\n",
              "            title=\"Suggest charts\"\n",
              "            style=\"display:none;\">\n",
              "\n",
              "<svg xmlns=\"http://www.w3.org/2000/svg\" height=\"24px\"viewBox=\"0 0 24 24\"\n",
              "     width=\"24px\">\n",
              "    <g>\n",
              "        <path d=\"M19 3H5c-1.1 0-2 .9-2 2v14c0 1.1.9 2 2 2h14c1.1 0 2-.9 2-2V5c0-1.1-.9-2-2-2zM9 17H7v-7h2v7zm4 0h-2V7h2v10zm4 0h-2v-4h2v4z\"/>\n",
              "    </g>\n",
              "</svg>\n",
              "  </button>\n",
              "\n",
              "<style>\n",
              "  .colab-df-quickchart {\n",
              "      --bg-color: #E8F0FE;\n",
              "      --fill-color: #1967D2;\n",
              "      --hover-bg-color: #E2EBFA;\n",
              "      --hover-fill-color: #174EA6;\n",
              "      --disabled-fill-color: #AAA;\n",
              "      --disabled-bg-color: #DDD;\n",
              "  }\n",
              "\n",
              "  [theme=dark] .colab-df-quickchart {\n",
              "      --bg-color: #3B4455;\n",
              "      --fill-color: #D2E3FC;\n",
              "      --hover-bg-color: #434B5C;\n",
              "      --hover-fill-color: #FFFFFF;\n",
              "      --disabled-bg-color: #3B4455;\n",
              "      --disabled-fill-color: #666;\n",
              "  }\n",
              "\n",
              "  .colab-df-quickchart {\n",
              "    background-color: var(--bg-color);\n",
              "    border: none;\n",
              "    border-radius: 50%;\n",
              "    cursor: pointer;\n",
              "    display: none;\n",
              "    fill: var(--fill-color);\n",
              "    height: 32px;\n",
              "    padding: 0;\n",
              "    width: 32px;\n",
              "  }\n",
              "\n",
              "  .colab-df-quickchart:hover {\n",
              "    background-color: var(--hover-bg-color);\n",
              "    box-shadow: 0 1px 2px rgba(60, 64, 67, 0.3), 0 1px 3px 1px rgba(60, 64, 67, 0.15);\n",
              "    fill: var(--button-hover-fill-color);\n",
              "  }\n",
              "\n",
              "  .colab-df-quickchart-complete:disabled,\n",
              "  .colab-df-quickchart-complete:disabled:hover {\n",
              "    background-color: var(--disabled-bg-color);\n",
              "    fill: var(--disabled-fill-color);\n",
              "    box-shadow: none;\n",
              "  }\n",
              "\n",
              "  .colab-df-spinner {\n",
              "    border: 2px solid var(--fill-color);\n",
              "    border-color: transparent;\n",
              "    border-bottom-color: var(--fill-color);\n",
              "    animation:\n",
              "      spin 1s steps(1) infinite;\n",
              "  }\n",
              "\n",
              "  @keyframes spin {\n",
              "    0% {\n",
              "      border-color: transparent;\n",
              "      border-bottom-color: var(--fill-color);\n",
              "      border-left-color: var(--fill-color);\n",
              "    }\n",
              "    20% {\n",
              "      border-color: transparent;\n",
              "      border-left-color: var(--fill-color);\n",
              "      border-top-color: var(--fill-color);\n",
              "    }\n",
              "    30% {\n",
              "      border-color: transparent;\n",
              "      border-left-color: var(--fill-color);\n",
              "      border-top-color: var(--fill-color);\n",
              "      border-right-color: var(--fill-color);\n",
              "    }\n",
              "    40% {\n",
              "      border-color: transparent;\n",
              "      border-right-color: var(--fill-color);\n",
              "      border-top-color: var(--fill-color);\n",
              "    }\n",
              "    60% {\n",
              "      border-color: transparent;\n",
              "      border-right-color: var(--fill-color);\n",
              "    }\n",
              "    80% {\n",
              "      border-color: transparent;\n",
              "      border-right-color: var(--fill-color);\n",
              "      border-bottom-color: var(--fill-color);\n",
              "    }\n",
              "    90% {\n",
              "      border-color: transparent;\n",
              "      border-bottom-color: var(--fill-color);\n",
              "    }\n",
              "  }\n",
              "</style>\n",
              "\n",
              "  <script>\n",
              "    async function quickchart(key) {\n",
              "      const quickchartButtonEl =\n",
              "        document.querySelector('#' + key + ' button');\n",
              "      quickchartButtonEl.disabled = true;  // To prevent multiple clicks.\n",
              "      quickchartButtonEl.classList.add('colab-df-spinner');\n",
              "      try {\n",
              "        const charts = await google.colab.kernel.invokeFunction(\n",
              "            'suggestCharts', [key], {});\n",
              "      } catch (error) {\n",
              "        console.error('Error during call to suggestCharts:', error);\n",
              "      }\n",
              "      quickchartButtonEl.classList.remove('colab-df-spinner');\n",
              "      quickchartButtonEl.classList.add('colab-df-quickchart-complete');\n",
              "    }\n",
              "    (() => {\n",
              "      let quickchartButtonEl =\n",
              "        document.querySelector('#df-7f1d3d7b-fd01-4160-bfda-8debad76f8e6 button');\n",
              "      quickchartButtonEl.style.display =\n",
              "        google.colab.kernel.accessAllowed ? 'block' : 'none';\n",
              "    })();\n",
              "  </script>\n",
              "</div>\n",
              "\n",
              "  <div id=\"id_400dacad-f143-4e8e-b109-716fa56ce23d\">\n",
              "    <style>\n",
              "      .colab-df-generate {\n",
              "        background-color: #E8F0FE;\n",
              "        border: none;\n",
              "        border-radius: 50%;\n",
              "        cursor: pointer;\n",
              "        display: none;\n",
              "        fill: #1967D2;\n",
              "        height: 32px;\n",
              "        padding: 0 0 0 0;\n",
              "        width: 32px;\n",
              "      }\n",
              "\n",
              "      .colab-df-generate:hover {\n",
              "        background-color: #E2EBFA;\n",
              "        box-shadow: 0px 1px 2px rgba(60, 64, 67, 0.3), 0px 1px 3px 1px rgba(60, 64, 67, 0.15);\n",
              "        fill: #174EA6;\n",
              "      }\n",
              "\n",
              "      [theme=dark] .colab-df-generate {\n",
              "        background-color: #3B4455;\n",
              "        fill: #D2E3FC;\n",
              "      }\n",
              "\n",
              "      [theme=dark] .colab-df-generate:hover {\n",
              "        background-color: #434B5C;\n",
              "        box-shadow: 0px 1px 3px 1px rgba(0, 0, 0, 0.15);\n",
              "        filter: drop-shadow(0px 1px 2px rgba(0, 0, 0, 0.3));\n",
              "        fill: #FFFFFF;\n",
              "      }\n",
              "    </style>\n",
              "    <button class=\"colab-df-generate\" onclick=\"generateWithVariable('top_articles')\"\n",
              "            title=\"Generate code using this dataframe.\"\n",
              "            style=\"display:none;\">\n",
              "\n",
              "  <svg xmlns=\"http://www.w3.org/2000/svg\" height=\"24px\"viewBox=\"0 0 24 24\"\n",
              "       width=\"24px\">\n",
              "    <path d=\"M7,19H8.4L18.45,9,17,7.55,7,17.6ZM5,21V16.75L18.45,3.32a2,2,0,0,1,2.83,0l1.4,1.43a1.91,1.91,0,0,1,.58,1.4,1.91,1.91,0,0,1-.58,1.4L9.25,21ZM18.45,9,17,7.55Zm-12,3A5.31,5.31,0,0,0,4.9,8.1,5.31,5.31,0,0,0,1,6.5,5.31,5.31,0,0,0,4.9,4.9,5.31,5.31,0,0,0,6.5,1,5.31,5.31,0,0,0,8.1,4.9,5.31,5.31,0,0,0,12,6.5,5.46,5.46,0,0,0,6.5,12Z\"/>\n",
              "  </svg>\n",
              "    </button>\n",
              "    <script>\n",
              "      (() => {\n",
              "      const buttonEl =\n",
              "        document.querySelector('#id_400dacad-f143-4e8e-b109-716fa56ce23d button.colab-df-generate');\n",
              "      buttonEl.style.display =\n",
              "        google.colab.kernel.accessAllowed ? 'block' : 'none';\n",
              "\n",
              "      buttonEl.onclick = () => {\n",
              "        google.colab.notebook.generateWithVariable('top_articles');\n",
              "      }\n",
              "      })();\n",
              "    </script>\n",
              "  </div>\n",
              "\n",
              "    </div>\n",
              "  </div>\n"
            ],
            "application/vnd.google.colaboratory.intrinsic+json": {
              "type": "dataframe",
              "variable_name": "top_articles",
              "summary": "{\n  \"name\": \"top_articles\",\n  \"rows\": 5,\n  \"fields\": [\n    {\n      \"column\": \"title\",\n      \"properties\": {\n        \"dtype\": \"string\",\n        \"num_unique_values\": 5,\n        \"samples\": [\n          \"Perspectives on Immunoglobulins in Colostrum and Milk\",\n          \"Picornavirus inhibitors\",\n          \"Contamination, Disinfection, and Cross-Colonization: Are Hospital Surfaces Reservoirs for Nosocomial Infection?\"\n        ],\n        \"semantic_type\": \"\",\n        \"description\": \"\"\n      }\n    },\n    {\n      \"column\": \"abstract\",\n      \"properties\": {\n        \"dtype\": \"string\",\n        \"num_unique_values\": 5,\n        \"samples\": [\n          \"Immunoglobulins form an important component of the immunological activity found in milk and colostrum. They are central to the immunological link that occurs when the mother transfers passive immunity to the offspring. The mechanism of transfer varies among mammalian species. Cattle provide a readily available immune rich colostrum and milk in large quantities, making those secretions important potential sources of immune products that may benefit humans. Immune milk is a term used to describe a range of products of the bovine mammary gland that have been tested against several human diseases. The use of colostrum or milk as a source of immunoglobulins, whether intended for the neonate of the species producing the secretion or for a different species, can be viewed in the context of the types of immunoglobulins in the secretion, the mechanisms by which the immunoglobulins are secreted, and the mechanisms by which the neonate or adult consuming the milk then gains immunological benefit. The stability of immunoglobulins as they undergo processing in the milk, or undergo digestion in the intestine, is an additional consideration for evaluating the value of milk immunoglobulins. This review summarizes the fundamental knowledge of immunoglobulins found in colostrum, milk, and immune milk.\",\n          \"Abstract Picornaviruses are among the best understood animal viruses in molecular terms. A number of important human and animal pathogens are members of the Picornaviridae family. The genome organization, the different steps of picornavirus growth and numerous compounds that have been reported as inhibitors of picornavirus functions are reviewed. The picornavirus particles and several agents that interact with them have been solved at atomic resolution, leading to computer-assisted drug design. Picornavirus inhibitors are useful in aiding a better understanding of picornavirus biology. In addition, some of them are promising therapeutic agents. Clinical efficacy of agents that bind to picornavirus particles has already been demonstrated.\",\n          \"Despite documentation that the inanimate hospital environment (e.g., surfaces and medical equipment) becomes contaminated with nosocomial pathogens, the data that suggest that contaminated fomites lead to nosocomial infections do so indirectly. Pathogens for which there is more-compelling evidence of survival in environmental reservoirs include Clostridium difficile, vancomycin-resistant enterococci, and methicillin-resistant Staphylococcus aureus, and pathogens for which there is evidence of probable survival in environmental reservoirs include norovirus, influenza virus, severe acute respiratory syndrome\\u2014associated coronavirus, and Candida species. Strategies to reduce the rates of nosocomial infection with these pathogens should conform to established guidelines, with an emphasis on thorough environmental cleaning and use of Environmental Protection Agency\\u2014approved detergent-disinfectants.\"\n        ],\n        \"semantic_type\": \"\",\n        \"description\": \"\"\n      }\n    },\n    {\n      \"column\": \"url\",\n      \"properties\": {\n        \"dtype\": \"string\",\n        \"num_unique_values\": 5,\n        \"samples\": [\n          \"https://www.ncbi.nlm.nih.gov/pmc/articles/PMC3257684/\",\n          \"https://doi.org/10.1016/0163-7258(94)90040-x\",\n          \"https://www.ncbi.nlm.nih.gov/pmc/articles/PMC7107941/\"\n        ],\n        \"semantic_type\": \"\",\n        \"description\": \"\"\n      }\n    },\n    {\n      \"column\": \"cos_sim\",\n      \"properties\": {\n        \"dtype\": \"float32\",\n        \"num_unique_values\": 5,\n        \"samples\": [\n          0.8020314574241638,\n          0.7741644382476807,\n          0.7986313104629517\n        ],\n        \"semantic_type\": \"\",\n        \"description\": \"\"\n      }\n    }\n  ]\n}"
            }
          },
          "metadata": {},
          "execution_count": 36
        }
      ]
    },
    {
      "cell_type": "code",
      "source": [
        "data.iloc[0].abstract"
      ],
      "metadata": {
        "colab": {
          "base_uri": "https://localhost:8080/",
          "height": 123
        },
        "id": "DCTuTMvlw1uy",
        "outputId": "f50a18d3-8760-4298-a1fe-a14523fc709a"
      },
      "execution_count": 37,
      "outputs": [
        {
          "output_type": "execute_result",
          "data": {
            "text/plain": [
              "'The sparse information available for multiple less commonly used species have been compiled with references. Clinical problems in animals are usually associated with changes in the blood and urine and core values are recommended for research, safety, and toxicity studies in laboratory animals. The core panel includes glucose, blood urea nitrogen, creatinine, total protein, albumin globulin, calcium, sodium, potassium, chloride, and total cholesterol; hematology tests includes total leukocyte count, erythrocyte count, erythrocyte morphology, platelet count, hemoglobin concentration, hematocrit or packed cell volume, mean corpuscular hemoglobin, and mean corpuscular hemoglobin concentration. Urinalysis tests are also recommended. Stress associated with restraint and handling may cause changes; anesthesia may produce changes in clinical biochemistry or hematology parameters, including decreased hematocrit, hemoglobin level, and red blood cell count. Techniques for blood and urine collection are described.'"
            ],
            "application/vnd.google.colaboratory.intrinsic+json": {
              "type": "string"
            }
          },
          "metadata": {},
          "execution_count": 37
        }
      ]
    },
    {
      "cell_type": "code",
      "source": [
        "top_articles.iloc[0].abstract"
      ],
      "metadata": {
        "execution": {
          "iopub.status.busy": "2022-01-15T06:07:20.424743Z",
          "iopub.execute_input": "2022-01-15T06:07:20.425211Z",
          "iopub.status.idle": "2022-01-15T06:07:20.434464Z",
          "shell.execute_reply.started": "2022-01-15T06:07:20.425161Z",
          "shell.execute_reply": "2022-01-15T06:07:20.433554Z"
        },
        "trusted": true,
        "id": "qt4BXJgXpPq6",
        "colab": {
          "base_uri": "https://localhost:8080/",
          "height": 70
        },
        "outputId": "0d26b991-867e-436c-86ef-47acac6216ac"
      },
      "execution_count": 38,
      "outputs": [
        {
          "output_type": "execute_result",
          "data": {
            "text/plain": [
              "'The chapter provides an overview of the taxonomy, history, and origin of the Mongolian gerbil. It provides quick, easy-to-use information on anatomy, physiology, and behavior as well as management and husbandry practices. It assists in the humane care and use of gerbils by including details on basic experimental methods for investigators, veterinary care, and the commonly seen diseases. Some more common uses of gerbils in research are described.'"
            ],
            "application/vnd.google.colaboratory.intrinsic+json": {
              "type": "string"
            }
          },
          "metadata": {},
          "execution_count": 38
        }
      ]
    },
    {
      "cell_type": "code",
      "source": [
        "top_articles.iloc[1].abstract"
      ],
      "metadata": {
        "execution": {
          "iopub.status.busy": "2022-01-15T06:07:20.436Z",
          "iopub.execute_input": "2022-01-15T06:07:20.436356Z",
          "iopub.status.idle": "2022-01-15T06:07:20.444938Z",
          "shell.execute_reply.started": "2022-01-15T06:07:20.43632Z",
          "shell.execute_reply": "2022-01-15T06:07:20.443986Z"
        },
        "trusted": true,
        "id": "tnt_t_zVpPq6",
        "colab": {
          "base_uri": "https://localhost:8080/",
          "height": 123
        },
        "outputId": "0da140d0-4772-43f5-d91d-916019777715"
      },
      "execution_count": 39,
      "outputs": [
        {
          "output_type": "execute_result",
          "data": {
            "text/plain": [
              "'Immunoglobulins form an important component of the immunological activity found in milk and colostrum. They are central to the immunological link that occurs when the mother transfers passive immunity to the offspring. The mechanism of transfer varies among mammalian species. Cattle provide a readily available immune rich colostrum and milk in large quantities, making those secretions important potential sources of immune products that may benefit humans. Immune milk is a term used to describe a range of products of the bovine mammary gland that have been tested against several human diseases. The use of colostrum or milk as a source of immunoglobulins, whether intended for the neonate of the species producing the secretion or for a different species, can be viewed in the context of the types of immunoglobulins in the secretion, the mechanisms by which the immunoglobulins are secreted, and the mechanisms by which the neonate or adult consuming the milk then gains immunological benefit. The stability of immunoglobulins as they undergo processing in the milk, or undergo digestion in the intestine, is an additional consideration for evaluating the value of milk immunoglobulins. This review summarizes the fundamental knowledge of immunoglobulins found in colostrum, milk, and immune milk.'"
            ],
            "application/vnd.google.colaboratory.intrinsic+json": {
              "type": "string"
            }
          },
          "metadata": {},
          "execution_count": 39
        }
      ]
    },
    {
      "cell_type": "code",
      "source": [
        "top_articles.iloc[2].abstract"
      ],
      "metadata": {
        "execution": {
          "iopub.status.busy": "2022-01-15T06:07:20.446534Z",
          "iopub.execute_input": "2022-01-15T06:07:20.447322Z",
          "iopub.status.idle": "2022-01-15T06:07:20.457086Z",
          "shell.execute_reply.started": "2022-01-15T06:07:20.447286Z",
          "shell.execute_reply": "2022-01-15T06:07:20.456446Z"
        },
        "trusted": true,
        "id": "MeuvtNHdpPq6",
        "colab": {
          "base_uri": "https://localhost:8080/",
          "height": 105
        },
        "outputId": "e2dc72d8-2e74-4cdf-d373-c7bab7d66f9b"
      },
      "execution_count": 40,
      "outputs": [
        {
          "output_type": "execute_result",
          "data": {
            "text/plain": [
              "'Despite documentation that the inanimate hospital environment (e.g., surfaces and medical equipment) becomes contaminated with nosocomial pathogens, the data that suggest that contaminated fomites lead to nosocomial infections do so indirectly. Pathogens for which there is more-compelling evidence of survival in environmental reservoirs include Clostridium difficile, vancomycin-resistant enterococci, and methicillin-resistant Staphylococcus aureus, and pathogens for which there is evidence of probable survival in environmental reservoirs include norovirus, influenza virus, severe acute respiratory syndrome—associated coronavirus, and Candida species. Strategies to reduce the rates of nosocomial infection with these pathogens should conform to established guidelines, with an emphasis on thorough environmental cleaning and use of Environmental Protection Agency—approved detergent-disinfectants.'"
            ],
            "application/vnd.google.colaboratory.intrinsic+json": {
              "type": "string"
            }
          },
          "metadata": {},
          "execution_count": 40
        }
      ]
    },
    {
      "cell_type": "code",
      "source": [
        "top_articles.iloc[3].abstract"
      ],
      "metadata": {
        "execution": {
          "iopub.status.busy": "2022-01-15T06:07:20.458428Z",
          "iopub.execute_input": "2022-01-15T06:07:20.458858Z",
          "iopub.status.idle": "2022-01-15T06:07:20.466214Z",
          "shell.execute_reply.started": "2022-01-15T06:07:20.458803Z",
          "shell.execute_reply": "2022-01-15T06:07:20.465458Z"
        },
        "trusted": true,
        "id": "ayk96TSQpPq6",
        "colab": {
          "base_uri": "https://localhost:8080/",
          "height": 88
        },
        "outputId": "16211ecc-60e2-41f4-ef0e-ddc6d00a8f18"
      },
      "execution_count": 41,
      "outputs": [
        {
          "output_type": "execute_result",
          "data": {
            "text/plain": [
              "'Influenza and other respiratory viruses are commonly identified in patients with community-acquired pneumonia, hospital-acquired pneumonia, and in immunocompromised patients with pneumonia. Clinically, it is difficult to differentiate viral from bacterial pneumonia. Similarly, the radiological findings of viral infection are nonspecific. The advent of polymerase chain reaction testing has enormously facilitated the identification of respiratory viruses, which has important implications for infection control measures and treatment. Currently, treatment options for patients with viral infection are limited, but there is ongoing research on the development and clinical testing of new treatment regimens and strategies.'"
            ],
            "application/vnd.google.colaboratory.intrinsic+json": {
              "type": "string"
            }
          },
          "metadata": {},
          "execution_count": 41
        }
      ]
    },
    {
      "cell_type": "markdown",
      "source": [
        "### Similarity Search Using KNN with Faiss   "
      ],
      "metadata": {
        "id": "sKaoJWJ7pPq6"
      }
    },
    {
      "cell_type": "markdown",
      "source": [
        "Faiss is a library developed by [Facebook AI Research](https://research.facebook.com/research-areas/facebook-ai-research-fair/). According to their [wikipage](https://github.com/facebookresearch/faiss/wiki),\n",
        "> Faiss is a library for efficient similarity search and clustering of dense vectors. It contains algorithms that search in sets of vectors of any size, up to ones that possibly do not fit in RAM\n",
        "\n",
        "Here are the steps to build the search engine using the previously built embeddings  \n",
        "- create the flat index: This is used to flat the vectors. The index uses the L2 (Euclidean) distance metrics to mesure the similarity betweeen the query vector and all the vectors (embeddings).\n",
        "- add all the vectors to the index\n",
        "- define the number **K** of similar document we want\n",
        "- run the similarity search  "
      ],
      "metadata": {
        "id": "H3m-LD_ppPq6"
      }
    },
    {
      "cell_type": "code",
      "source": [
        "embedding_dimension = len(embeddings[0])"
      ],
      "metadata": {
        "execution": {
          "iopub.status.busy": "2022-01-15T06:07:20.467451Z",
          "iopub.execute_input": "2022-01-15T06:07:20.467927Z",
          "iopub.status.idle": "2022-01-15T06:07:20.475447Z",
          "shell.execute_reply.started": "2022-01-15T06:07:20.467889Z",
          "shell.execute_reply": "2022-01-15T06:07:20.474757Z"
        },
        "trusted": true,
        "id": "bK2EEwYIpPq6"
      },
      "execution_count": 42,
      "outputs": []
    },
    {
      "cell_type": "code",
      "source": [
        "indexFlatL2 = faiss.IndexFlatL2(embedding_dimension)\n",
        "\n",
        "# Convert the embeddings list of vectors into a 2D array.\n",
        "vectors = np.stack(embeddings)\n",
        "\n",
        "indexFlatL2.add(vectors)"
      ],
      "metadata": {
        "execution": {
          "iopub.status.busy": "2022-01-15T06:07:20.476732Z",
          "iopub.execute_input": "2022-01-15T06:07:20.477341Z",
          "iopub.status.idle": "2022-01-15T06:07:20.493544Z",
          "shell.execute_reply.started": "2022-01-15T06:07:20.477312Z",
          "shell.execute_reply": "2022-01-15T06:07:20.492955Z"
        },
        "trusted": true,
        "id": "6VjT0WrnpPq6"
      },
      "execution_count": 43,
      "outputs": []
    },
    {
      "cell_type": "code",
      "source": [
        "print(\"Total Added Number of Vectors: {}\".format(indexFlatL2.ntotal))"
      ],
      "metadata": {
        "execution": {
          "iopub.status.busy": "2022-01-15T06:07:20.494668Z",
          "iopub.execute_input": "2022-01-15T06:07:20.494894Z",
          "iopub.status.idle": "2022-01-15T06:07:20.501625Z",
          "shell.execute_reply.started": "2022-01-15T06:07:20.494863Z",
          "shell.execute_reply": "2022-01-15T06:07:20.499405Z"
        },
        "trusted": true,
        "id": "A_k925xHpPrA",
        "colab": {
          "base_uri": "https://localhost:8080/"
        },
        "outputId": "c62eee89-3743-40e4-e201-be6491ae4eee"
      },
      "execution_count": 44,
      "outputs": [
        {
          "output_type": "stream",
          "name": "stdout",
          "text": [
            "Total Added Number of Vectors: 100\n"
          ]
        }
      ]
    },
    {
      "cell_type": "markdown",
      "source": [
        "### Perform Query    \n",
        "We will use the same query as previously. Change it to another one if you want.  "
      ],
      "metadata": {
        "id": "qJXhg2PjpPrA"
      }
    },
    {
      "cell_type": "code",
      "source": [
        "# Get query vector\n",
        "query_text = data.iloc[0].abstract\n",
        "query_vector = process_query(query_text)\n",
        "\n",
        "K = 5\n",
        "\n",
        "# Run the search\n",
        "D, I = indexFlatL2.search(query_vector, K)"
      ],
      "metadata": {
        "execution": {
          "iopub.status.busy": "2022-01-15T06:07:20.502784Z",
          "iopub.execute_input": "2022-01-15T06:07:20.503583Z",
          "iopub.status.idle": "2022-01-15T06:07:21.475846Z",
          "shell.execute_reply.started": "2022-01-15T06:07:20.503547Z",
          "shell.execute_reply": "2022-01-15T06:07:21.475133Z"
        },
        "trusted": true,
        "id": "ECuw6ccMpPrA"
      },
      "execution_count": 45,
      "outputs": []
    },
    {
      "cell_type": "code",
      "source": [
        "I # this contains the index of all the similar articles"
      ],
      "metadata": {
        "execution": {
          "iopub.status.busy": "2022-01-15T06:07:21.477431Z",
          "iopub.execute_input": "2022-01-15T06:07:21.477698Z",
          "iopub.status.idle": "2022-01-15T06:07:21.48291Z",
          "shell.execute_reply.started": "2022-01-15T06:07:21.477665Z",
          "shell.execute_reply": "2022-01-15T06:07:21.482278Z"
        },
        "trusted": true,
        "id": "rJZAN3mapPrA",
        "colab": {
          "base_uri": "https://localhost:8080/"
        },
        "outputId": "6114888a-fb13-40b5-ccb4-30f95e93b828"
      },
      "execution_count": 46,
      "outputs": [
        {
          "output_type": "execute_result",
          "data": {
            "text/plain": [
              "array([[ 0, 11, 10, 91, 67]])"
            ]
          },
          "metadata": {},
          "execution_count": 46
        }
      ]
    },
    {
      "cell_type": "code",
      "source": [
        "D # this contains the L2 distance values of all the similar articles"
      ],
      "metadata": {
        "execution": {
          "iopub.status.busy": "2022-01-15T06:07:21.484517Z",
          "iopub.execute_input": "2022-01-15T06:07:21.484961Z",
          "iopub.status.idle": "2022-01-15T06:07:21.494439Z",
          "shell.execute_reply.started": "2022-01-15T06:07:21.484925Z",
          "shell.execute_reply": "2022-01-15T06:07:21.493606Z"
        },
        "trusted": true,
        "id": "pIKYUxgBpPrB",
        "colab": {
          "base_uri": "https://localhost:8080/"
        },
        "outputId": "2d881a91-4ebc-4b05-ddf2-1ed4d1a2aa93"
      },
      "execution_count": 47,
      "outputs": [
        {
          "output_type": "execute_result",
          "data": {
            "text/plain": [
              "array([[  0.     , 130.24078, 205.51802, 209.41898, 231.22496]],\n",
              "      dtype=float32)"
            ]
          },
          "metadata": {},
          "execution_count": 47
        }
      ]
    },
    {
      "cell_type": "markdown",
      "source": [
        "**Note**:  \n",
        "I decided to breakdown all the steps on purpose in order to make sure you understand properly. But you can put everything together into a single function.  "
      ],
      "metadata": {
        "id": "hUxnpMiGpPrB"
      }
    },
    {
      "cell_type": "code",
      "source": [
        "for i in range(I.shape[1]):\n",
        "\n",
        "    article_index = I[0, i]\n",
        "\n",
        "    abstract = data.iloc[article_index].abstract\n",
        "    print(\"** Article #{} **\".format(article_index))\n",
        "    print(\"** --> Abstract : \\n{}**\".format(abstract))\n",
        "    print(\"** --> L2 Distance: %.2f**\" % D[0, i])\n",
        "    print(\"\\n\")"
      ],
      "metadata": {
        "execution": {
          "iopub.status.busy": "2022-01-15T06:07:21.496008Z",
          "iopub.execute_input": "2022-01-15T06:07:21.496288Z",
          "iopub.status.idle": "2022-01-15T06:07:21.509697Z",
          "shell.execute_reply.started": "2022-01-15T06:07:21.496254Z",
          "shell.execute_reply": "2022-01-15T06:07:21.508956Z"
        },
        "trusted": true,
        "id": "S9LYus9gpPrB",
        "colab": {
          "base_uri": "https://localhost:8080/"
        },
        "outputId": "f24d3a68-9eb7-449c-e7a1-56711c39701d"
      },
      "execution_count": 48,
      "outputs": [
        {
          "output_type": "stream",
          "name": "stdout",
          "text": [
            "** Article #0 **\n",
            "** --> Abstract : \n",
            "The sparse information available for multiple less commonly used species have been compiled with references. Clinical problems in animals are usually associated with changes in the blood and urine and core values are recommended for research, safety, and toxicity studies in laboratory animals. The core panel includes glucose, blood urea nitrogen, creatinine, total protein, albumin globulin, calcium, sodium, potassium, chloride, and total cholesterol; hematology tests includes total leukocyte count, erythrocyte count, erythrocyte morphology, platelet count, hemoglobin concentration, hematocrit or packed cell volume, mean corpuscular hemoglobin, and mean corpuscular hemoglobin concentration. Urinalysis tests are also recommended. Stress associated with restraint and handling may cause changes; anesthesia may produce changes in clinical biochemistry or hematology parameters, including decreased hematocrit, hemoglobin level, and red blood cell count. Techniques for blood and urine collection are described.**\n",
            "** --> L2 Distance: 0.00**\n",
            "\n",
            "\n",
            "** Article #11 **\n",
            "** --> Abstract : \n",
            "The chapter provides an overview of the taxonomy, history, and origin of the Mongolian gerbil. It provides quick, easy-to-use information on anatomy, physiology, and behavior as well as management and husbandry practices. It assists in the humane care and use of gerbils by including details on basic experimental methods for investigators, veterinary care, and the commonly seen diseases. Some more common uses of gerbils in research are described.**\n",
            "** --> L2 Distance: 130.24**\n",
            "\n",
            "\n",
            "** Article #10 **\n",
            "** --> Abstract : \n",
            "Immunoglobulins form an important component of the immunological activity found in milk and colostrum. They are central to the immunological link that occurs when the mother transfers passive immunity to the offspring. The mechanism of transfer varies among mammalian species. Cattle provide a readily available immune rich colostrum and milk in large quantities, making those secretions important potential sources of immune products that may benefit humans. Immune milk is a term used to describe a range of products of the bovine mammary gland that have been tested against several human diseases. The use of colostrum or milk as a source of immunoglobulins, whether intended for the neonate of the species producing the secretion or for a different species, can be viewed in the context of the types of immunoglobulins in the secretion, the mechanisms by which the immunoglobulins are secreted, and the mechanisms by which the neonate or adult consuming the milk then gains immunological benefit. The stability of immunoglobulins as they undergo processing in the milk, or undergo digestion in the intestine, is an additional consideration for evaluating the value of milk immunoglobulins. This review summarizes the fundamental knowledge of immunoglobulins found in colostrum, milk, and immune milk.**\n",
            "** --> L2 Distance: 205.52**\n",
            "\n",
            "\n",
            "** Article #91 **\n",
            "** --> Abstract : \n",
            "Despite documentation that the inanimate hospital environment (e.g., surfaces and medical equipment) becomes contaminated with nosocomial pathogens, the data that suggest that contaminated fomites lead to nosocomial infections do so indirectly. Pathogens for which there is more-compelling evidence of survival in environmental reservoirs include Clostridium difficile, vancomycin-resistant enterococci, and methicillin-resistant Staphylococcus aureus, and pathogens for which there is evidence of probable survival in environmental reservoirs include norovirus, influenza virus, severe acute respiratory syndrome—associated coronavirus, and Candida species. Strategies to reduce the rates of nosocomial infection with these pathogens should conform to established guidelines, with an emphasis on thorough environmental cleaning and use of Environmental Protection Agency—approved detergent-disinfectants.**\n",
            "** --> L2 Distance: 209.42**\n",
            "\n",
            "\n",
            "** Article #67 **\n",
            "** --> Abstract : \n",
            "Abstract Picornaviruses are among the best understood animal viruses in molecular terms. A number of important human and animal pathogens are members of the Picornaviridae family. The genome organization, the different steps of picornavirus growth and numerous compounds that have been reported as inhibitors of picornavirus functions are reviewed. The picornavirus particles and several agents that interact with them have been solved at atomic resolution, leading to computer-assisted drug design. Picornavirus inhibitors are useful in aiding a better understanding of picornavirus biology. In addition, some of them are promising therapeutic agents. Clinical efficacy of agents that bind to picornavirus particles has already been demonstrated.**\n",
            "** --> L2 Distance: 231.22**\n",
            "\n",
            "\n"
          ]
        }
      ]
    },
    {
      "cell_type": "markdown",
      "source": [
        "**Observation**   \n",
        "- The lower the distance is, the most similar the article is to the query.   \n",
        "- The first document has L2 = 0, which means 100% similarity. This is obvious, because the query was compared with itself.\n",
        "- We can simply remove it to the analysis."
      ],
      "metadata": {
        "id": "oCqndQJHpPrB"
      }
    }
  ]
}