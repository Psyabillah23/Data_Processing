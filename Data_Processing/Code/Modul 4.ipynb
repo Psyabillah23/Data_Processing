{
 "cells": [
  {
   "cell_type": "markdown",
   "metadata": {},
   "source": [
    "## Import Libraries <a id =\"9\"></a>\n",
    "\n",
    "* pandas: Used for data manipulation and analysis\n",
    "* numpy : Numpy is the core library for scientific computing in Python. It is used for working with arrays and matrices.\n",
    "* KFold: Sklearn K-Folds cross-validator\n",
    "* StratifiedKFold: Stratified K-Folds cross-validator\n",
    "* cross_val_score: Sklearn library to evaluate a score by cross-validation\n",
    "* linear_model: Sklearn library, we are using LogisticRegression algorithm\n",
    "* tree: Sklearn library, we are using DecisionTreeClassifier\n",
    "* ensemble: SKlearn library, we are using RandomForestClassifier\n",
    "* neighbors: SKlearn library, we are using KNNClassifier\n",
    "* metrics: SKlearn library, we are using classification_report and confusion_matrix\n",
    "* seaborn: Seaborn Library for confusion matrix visualization"
   ]
  },
  {
   "cell_type": "code",
   "execution_count": 23,
   "metadata": {
    "execution": {
     "iopub.execute_input": "2020-12-06T06:53:03.025074Z",
     "iopub.status.busy": "2020-12-06T06:53:03.024445Z",
     "iopub.status.idle": "2020-12-06T06:53:03.895821Z",
     "shell.execute_reply": "2020-12-06T06:53:03.895261Z"
    },
    "papermill": {
     "duration": 0.898501,
     "end_time": "2020-12-06T06:53:03.895944",
     "exception": false,
     "start_time": "2020-12-06T06:53:02.997443",
     "status": "completed"
    },
    "tags": []
   },
   "outputs": [],
   "source": [
    "import pandas as pd\n",
    "import numpy as np\n",
    "from sklearn.model_selection import KFold, StratifiedKFold, cross_val_score\n",
    "from sklearn import linear_model, tree, ensemble, neighbors, metrics\n",
    "import seaborn as sns"
   ]
  },
  {
   "cell_type": "markdown",
   "metadata": {
    "papermill": {
     "duration": 0.028464,
     "end_time": "2020-12-06T06:54:58.273364",
     "exception": false,
     "start_time": "2020-12-06T06:54:58.244900",
     "status": "completed"
    },
    "tags": []
   },
   "source": [
    "# K Fold: Classification <a id =\"19\"></a>\n",
    "\n",
    "## Load Dataset <a id =\"20\"></a>\n",
    "\n",
    "We will load the dataset into pandas dataframe and convert it into a toy dataset by removing categorical columns and rows and columns with null values."
   ]
  },
  {
   "cell_type": "code",
   "execution_count": 5,
   "metadata": {
    "_cell_guid": "79c7e3d0-c299-4dcb-8224-4455121ee9b0",
    "_uuid": "d629ff2d2480ee46fbb7e2d37f6b5fab8052498a",
    "execution": {
     "iopub.execute_input": "2020-12-06T06:54:58.341203Z",
     "iopub.status.busy": "2020-12-06T06:54:58.340488Z",
     "iopub.status.idle": "2020-12-06T06:54:58.370754Z",
     "shell.execute_reply": "2020-12-06T06:54:58.370147Z"
    },
    "papermill": {
     "duration": 0.068448,
     "end_time": "2020-12-06T06:54:58.370857",
     "exception": false,
     "start_time": "2020-12-06T06:54:58.302409",
     "status": "completed"
    },
    "tags": []
   },
   "outputs": [
    {
     "name": "stdout",
     "output_type": "stream",
     "text": [
      "Shape of input data: (891, 5) and shape of target variable: (891,)\n"
     ]
    },
    {
     "data": {
      "text/html": [
       "<div>\n",
       "<style scoped>\n",
       "    .dataframe tbody tr th:only-of-type {\n",
       "        vertical-align: middle;\n",
       "    }\n",
       "\n",
       "    .dataframe tbody tr th {\n",
       "        vertical-align: top;\n",
       "    }\n",
       "\n",
       "    .dataframe thead th {\n",
       "        text-align: right;\n",
       "    }\n",
       "</style>\n",
       "<table border=\"1\" class=\"dataframe\">\n",
       "  <thead>\n",
       "    <tr style=\"text-align: right;\">\n",
       "      <th></th>\n",
       "      <th>PassengerId</th>\n",
       "      <th>Pclass</th>\n",
       "      <th>SibSp</th>\n",
       "      <th>Parch</th>\n",
       "      <th>Fare</th>\n",
       "      <th>Survived</th>\n",
       "    </tr>\n",
       "  </thead>\n",
       "  <tbody>\n",
       "    <tr>\n",
       "      <th>0</th>\n",
       "      <td>1</td>\n",
       "      <td>3</td>\n",
       "      <td>1</td>\n",
       "      <td>0</td>\n",
       "      <td>7.2500</td>\n",
       "      <td>0</td>\n",
       "    </tr>\n",
       "    <tr>\n",
       "      <th>1</th>\n",
       "      <td>2</td>\n",
       "      <td>1</td>\n",
       "      <td>1</td>\n",
       "      <td>0</td>\n",
       "      <td>71.2833</td>\n",
       "      <td>1</td>\n",
       "    </tr>\n",
       "    <tr>\n",
       "      <th>2</th>\n",
       "      <td>3</td>\n",
       "      <td>3</td>\n",
       "      <td>0</td>\n",
       "      <td>0</td>\n",
       "      <td>7.9250</td>\n",
       "      <td>1</td>\n",
       "    </tr>\n",
       "    <tr>\n",
       "      <th>3</th>\n",
       "      <td>4</td>\n",
       "      <td>1</td>\n",
       "      <td>1</td>\n",
       "      <td>0</td>\n",
       "      <td>53.1000</td>\n",
       "      <td>1</td>\n",
       "    </tr>\n",
       "    <tr>\n",
       "      <th>4</th>\n",
       "      <td>5</td>\n",
       "      <td>3</td>\n",
       "      <td>0</td>\n",
       "      <td>0</td>\n",
       "      <td>8.0500</td>\n",
       "      <td>0</td>\n",
       "    </tr>\n",
       "  </tbody>\n",
       "</table>\n",
       "</div>"
      ],
      "text/plain": [
       "   PassengerId  Pclass  SibSp  Parch     Fare  Survived\n",
       "0            1       3      1      0   7.2500         0\n",
       "1            2       1      1      0  71.2833         1\n",
       "2            3       3      0      0   7.9250         1\n",
       "3            4       1      1      0  53.1000         1\n",
       "4            5       3      0      0   8.0500         0"
      ]
     },
     "execution_count": 5,
     "metadata": {},
     "output_type": "execute_result"
    }
   ],
   "source": [
    "train_data = pd.read_csv('train.csv')\n",
    "\n",
    "train_data.dropna(axis=0, subset=['Survived'], inplace=True)\n",
    "y = train_data.Survived\n",
    "train_data.drop(['Survived'], axis=1, inplace=True)\n",
    "train_data.drop(['Age'], axis=1, inplace=True)\n",
    "\n",
    "numeric_cols = [cname for cname in train_data.columns if train_data[cname].dtype in ['int64', 'float64']]\n",
    "X = train_data[numeric_cols].copy()\n",
    "\n",
    "print(\"Shape of input data: {} and shape of target variable: {}\".format(X.shape, y.shape))\n",
    "pd.concat([X, y], axis=1).head()"
   ]
  },
  {
   "cell_type": "markdown",
   "metadata": {
    "papermill": {
     "duration": 0.031144,
     "end_time": "2020-12-06T06:54:58.493026",
     "exception": false,
     "start_time": "2020-12-06T06:54:58.461882",
     "status": "completed"
    },
    "tags": []
   },
   "source": [
    "## Model Score Using KFold <a id =\"22\"></a>"
   ]
  },
  {
   "cell_type": "code",
   "execution_count": 6,
   "metadata": {
    "execution": {
     "iopub.execute_input": "2020-12-06T06:54:58.560896Z",
     "iopub.status.busy": "2020-12-06T06:54:58.560273Z",
     "iopub.status.idle": "2020-12-06T06:54:58.572148Z",
     "shell.execute_reply": "2020-12-06T06:54:58.572634Z"
    },
    "papermill": {
     "duration": 0.049341,
     "end_time": "2020-12-06T06:54:58.572788",
     "exception": false,
     "start_time": "2020-12-06T06:54:58.523447",
     "status": "completed"
    },
    "tags": []
   },
   "outputs": [
    {
     "name": "stdout",
     "output_type": "stream",
     "text": [
      "Fold:1, Train set: 712, Test set:179\n",
      "Fold:2, Train set: 713, Test set:178\n",
      "Fold:3, Train set: 713, Test set:178\n",
      "Fold:4, Train set: 713, Test set:178\n",
      "Fold:5, Train set: 713, Test set:178\n"
     ]
    }
   ],
   "source": [
    "kf = StratifiedKFold(n_splits=5, shuffle=True, random_state=42)\n",
    "\n",
    "cnt = 1\n",
    "for train_index, test_index in kf.split(X, y):\n",
    "    print(f'Fold:{cnt}, Train set: {len(train_index)}, Test set:{len(test_index)}')\n",
    "    cnt+=1"
   ]
  },
  {
   "cell_type": "markdown",
   "metadata": {
    "papermill": {
     "duration": 0.031344,
     "end_time": "2020-12-06T06:54:58.635856",
     "exception": false,
     "start_time": "2020-12-06T06:54:58.604512",
     "status": "completed"
    },
    "tags": []
   },
   "source": [
    "### Using Logistic Regression <a id =\"23\"></a>"
   ]
  },
  {
   "cell_type": "code",
   "execution_count": 7,
   "metadata": {
    "execution": {
     "iopub.execute_input": "2020-12-06T06:54:58.705262Z",
     "iopub.status.busy": "2020-12-06T06:54:58.704630Z",
     "iopub.status.idle": "2020-12-06T06:54:58.853709Z",
     "shell.execute_reply": "2020-12-06T06:54:58.853211Z"
    },
    "papermill": {
     "duration": 0.186381,
     "end_time": "2020-12-06T06:54:58.853819",
     "exception": false,
     "start_time": "2020-12-06T06:54:58.667438",
     "status": "completed"
    },
    "tags": []
   },
   "outputs": [
    {
     "name": "stdout",
     "output_type": "stream",
     "text": [
      "Scores for each fold are: [0.66480447 0.69662921 0.70224719 0.69101124 0.66292135]\n",
      "Average score: 0.68\n"
     ]
    }
   ],
   "source": [
    "score = cross_val_score(linear_model.LogisticRegression(random_state= 42), X, y, cv= kf, scoring=\"accuracy\")\n",
    "print(f'Scores for each fold are: {score}')\n",
    "print(f'Average score: {\"{:.2f}\".format(score.mean())}')"
   ]
  },
  {
   "cell_type": "markdown",
   "metadata": {
    "papermill": {
     "duration": 0.030428,
     "end_time": "2020-12-06T06:54:58.915528",
     "exception": false,
     "start_time": "2020-12-06T06:54:58.885100",
     "status": "completed"
    },
    "tags": []
   },
   "source": [
    "### Using Decision Classifier <a id =\"24\"></a>"
   ]
  },
  {
   "cell_type": "code",
   "execution_count": 8,
   "metadata": {
    "execution": {
     "iopub.execute_input": "2020-12-06T06:54:58.983171Z",
     "iopub.status.busy": "2020-12-06T06:54:58.982427Z",
     "iopub.status.idle": "2020-12-06T06:54:59.031249Z",
     "shell.execute_reply": "2020-12-06T06:54:59.031732Z"
    },
    "papermill": {
     "duration": 0.085955,
     "end_time": "2020-12-06T06:54:59.031878",
     "exception": false,
     "start_time": "2020-12-06T06:54:58.945923",
     "status": "completed"
    },
    "tags": []
   },
   "outputs": [
    {
     "name": "stdout",
     "output_type": "stream",
     "text": [
      "Scores for each fold are: [0.67039106 0.61235955 0.5505618  0.64044944 0.69101124]\n",
      "Average score: 0.63\n"
     ]
    }
   ],
   "source": [
    "score = cross_val_score(tree.DecisionTreeClassifier(random_state= 42), X, y, cv= kf, scoring=\"accuracy\")\n",
    "print(f'Scores for each fold are: {score}')\n",
    "print(f'Average score: {\"{:.2f}\".format(score.mean())}')"
   ]
  },
  {
   "cell_type": "markdown",
   "metadata": {
    "papermill": {
     "duration": 0.030787,
     "end_time": "2020-12-06T06:54:59.094154",
     "exception": false,
     "start_time": "2020-12-06T06:54:59.063367",
     "status": "completed"
    },
    "tags": []
   },
   "source": [
    "### Using Random Forest Classifier <a id =\"25\"></a>"
   ]
  },
  {
   "cell_type": "code",
   "execution_count": 9,
   "metadata": {
    "execution": {
     "iopub.execute_input": "2020-12-06T06:54:59.164207Z",
     "iopub.status.busy": "2020-12-06T06:54:59.163058Z",
     "iopub.status.idle": "2020-12-06T06:55:00.369705Z",
     "shell.execute_reply": "2020-12-06T06:55:00.368658Z"
    },
    "papermill": {
     "duration": 1.244377,
     "end_time": "2020-12-06T06:55:00.369861",
     "exception": false,
     "start_time": "2020-12-06T06:54:59.125484",
     "status": "completed"
    },
    "tags": []
   },
   "outputs": [
    {
     "name": "stdout",
     "output_type": "stream",
     "text": [
      "Scores for each fold are: [0.74301676 0.66292135 0.65730337 0.70786517 0.73033708]\n",
      "Average score: 0.70\n"
     ]
    }
   ],
   "source": [
    "score = cross_val_score(ensemble.RandomForestClassifier(random_state= 42), X, y, cv= kf, scoring=\"accuracy\")\n",
    "print(f'Scores for each fold are: {score}')\n",
    "print(f'Average score: {\"{:.2f}\".format(score.mean())}')"
   ]
  },
  {
   "cell_type": "markdown",
   "metadata": {},
   "source": [
    "### Using KNN Classifier <a id =\"25\"></a>"
   ]
  },
  {
   "cell_type": "code",
   "execution_count": 11,
   "metadata": {},
   "outputs": [
    {
     "name": "stdout",
     "output_type": "stream",
     "text": [
      "Scores for each fold are: [0.63687151 0.65730337 0.6011236  0.61235955 0.65168539]\n",
      "Average score: 0.63\n"
     ]
    }
   ],
   "source": [
    "score = cross_val_score(neighbors.KNeighborsClassifier(), X, y, cv= kf, scoring=\"accuracy\")\n",
    "print(f'Scores for each fold are: {score}')\n",
    "print(f'Average score: {\"{:.2f}\".format(score.mean())}')"
   ]
  },
  {
   "cell_type": "markdown",
   "metadata": {
    "papermill": {
     "duration": 0.047389,
     "end_time": "2020-12-06T06:55:00.467581",
     "exception": false,
     "start_time": "2020-12-06T06:55:00.420192",
     "status": "completed"
    },
    "tags": []
   },
   "source": [
    "## Model Tuning using KFold <a id =\"26\"></a>\n",
    "\n",
    "We can also use **cross_val_score()** along with StratifiedKFold to evaluate the model for different hyperparameters. Here we are going to try different hyperparameter values and choose the ones for which we get the highest model score.\n",
    "\n",
    "### Logistic Classifier Tuning <a id =\"27\"></a>\n",
    "\n",
    "We will try different optimization algorithm to finalize the one with the highest accuracy."
   ]
  },
  {
   "cell_type": "code",
   "execution_count": 15,
   "metadata": {
    "execution": {
     "iopub.execute_input": "2020-12-06T06:55:00.575608Z",
     "iopub.status.busy": "2020-12-06T06:55:00.574504Z",
     "iopub.status.idle": "2020-12-06T06:55:03.954469Z",
     "shell.execute_reply": "2020-12-06T06:55:03.953743Z"
    },
    "papermill": {
     "duration": 3.434968,
     "end_time": "2020-12-06T06:55:03.954592",
     "exception": false,
     "start_time": "2020-12-06T06:55:00.519624",
     "status": "completed"
    },
    "tags": []
   },
   "outputs": [
    {
     "name": "stdout",
     "output_type": "stream",
     "text": [
      "Average score(newton-cg): 0.684\n",
      "Average score(lbfgs): 0.684\n",
      "Average score(liblinear): 0.684\n",
      "Average score(sag): 0.678\n",
      "Average score(saga): 0.681\n"
     ]
    }
   ],
   "source": [
    "algorithms = ['newton-cg', 'lbfgs', 'liblinear', 'sag', 'saga']\n",
    "\n",
    "for algo in algorithms:\n",
    "    score = cross_val_score(linear_model.LogisticRegression(max_iter= 4000, solver= algo, random_state= 42), X, y, cv= kf, scoring=\"accuracy\")\n",
    "    print(f'Average score({algo}): {\"{:.3f}\".format(score.mean())}')"
   ]
  },
  {
   "cell_type": "markdown",
   "metadata": {
    "papermill": {
     "duration": 0.049202,
     "end_time": "2020-12-06T06:55:04.053446",
     "exception": false,
     "start_time": "2020-12-06T06:55:04.004244",
     "status": "completed"
    },
    "tags": []
   },
   "source": [
    "### Decision Tree Classifier Tuning <a id =\"28\"></a>\n",
    "\n",
    "Here we are going to do tuning based on 'max_depth'. We will try with max depth starting from 1 to 10 and depending on the final 'accuracy' score choose the value of max_depth."
   ]
  },
  {
   "cell_type": "code",
   "execution_count": 16,
   "metadata": {
    "execution": {
     "iopub.execute_input": "2020-12-06T06:55:04.161426Z",
     "iopub.status.busy": "2020-12-06T06:55:04.160600Z",
     "iopub.status.idle": "2020-12-06T06:55:04.535208Z",
     "shell.execute_reply": "2020-12-06T06:55:04.533854Z"
    },
    "papermill": {
     "duration": 0.43249,
     "end_time": "2020-12-06T06:55:04.535406",
     "exception": false,
     "start_time": "2020-12-06T06:55:04.102916",
     "status": "completed"
    },
    "tags": []
   },
   "outputs": [
    {
     "name": "stdout",
     "output_type": "stream",
     "text": [
      "Average score(1): 0.668\n",
      "Average score(2): 0.706\n",
      "Average score(3): 0.713\n",
      "Average score(4): 0.687\n",
      "Average score(5): 0.688\n",
      "Average score(6): 0.682\n",
      "Average score(7): 0.669\n",
      "Average score(8): 0.669\n",
      "Average score(9): 0.663\n",
      "Average score(10): 0.664\n"
     ]
    }
   ],
   "source": [
    "max_depth = [1,2,3,4,5,6,7,8,9,10]\n",
    "\n",
    "for val in max_depth:\n",
    "    score = cross_val_score(tree.DecisionTreeClassifier(max_depth= val, random_state= 42), X, y, cv= kf, scoring=\"accuracy\")\n",
    "    print(f'Average score({val}): {\"{:.3f}\".format(score.mean())}')"
   ]
  },
  {
   "cell_type": "markdown",
   "metadata": {
    "papermill": {
     "duration": 0.034065,
     "end_time": "2020-12-06T06:55:04.603611",
     "exception": false,
     "start_time": "2020-12-06T06:55:04.569546",
     "status": "completed"
    },
    "tags": []
   },
   "source": [
    "### Random Forest Classifier Tuning <a id =\"29\"></a>\n",
    "\n",
    "Here we are going to do tuning based on 'n_estimators'. We will try with estimators starting from 50 to 350 and depending on the final 'rmse' score, choose the value of estimator."
   ]
  },
  {
   "cell_type": "code",
   "execution_count": 17,
   "metadata": {
    "execution": {
     "iopub.execute_input": "2020-12-06T06:55:04.677966Z",
     "iopub.status.busy": "2020-12-06T06:55:04.677267Z",
     "iopub.status.idle": "2020-12-06T06:55:21.437860Z",
     "shell.execute_reply": "2020-12-06T06:55:21.437234Z"
    },
    "papermill": {
     "duration": 16.801287,
     "end_time": "2020-12-06T06:55:21.437962",
     "exception": false,
     "start_time": "2020-12-06T06:55:04.636675",
     "status": "completed"
    },
    "tags": []
   },
   "outputs": [
    {
     "name": "stdout",
     "output_type": "stream",
     "text": [
      "Average score(50): 0.703\n",
      "Average score(100): 0.700\n",
      "Average score(150): 0.691\n",
      "Average score(200): 0.697\n",
      "Average score(250): 0.692\n",
      "Average score(300): 0.695\n",
      "Average score(350): 0.700\n"
     ]
    }
   ],
   "source": [
    "n_estimators = [50, 100, 150, 200, 250, 300, 350]\n",
    "\n",
    "for val in n_estimators:\n",
    "    score = cross_val_score(ensemble.RandomForestClassifier(n_estimators= val, random_state= 42), X, y, cv= kf, scoring=\"accuracy\")\n",
    "    print(f'Average score({val}): {\"{:.3f}\".format(score.mean())}')"
   ]
  },
  {
   "cell_type": "markdown",
   "metadata": {},
   "source": [
    "### KNN Classifier Tuning <a id =\"29\"></a>\n",
    "\n",
    "KNN is neighborhood-based classfier. So, we will try with n_neighbors starting from 3 to 10 and depending on the final 'accuracy' score, choose the value of n_neighbors."
   ]
  },
  {
   "cell_type": "code",
   "execution_count": 12,
   "metadata": {},
   "outputs": [
    {
     "name": "stdout",
     "output_type": "stream",
     "text": [
      "Average score(3): 0.602\n",
      "Average score(4): 0.646\n",
      "Average score(5): 0.632\n",
      "Average score(6): 0.659\n",
      "Average score(7): 0.622\n",
      "Average score(8): 0.644\n",
      "Average score(9): 0.632\n",
      "Average score(10): 0.637\n"
     ]
    }
   ],
   "source": [
    "n_neighbors = [3, 4, 5, 6, 7, 8, 9, 10]\n",
    "\n",
    "for val in n_neighbors:\n",
    "    score = cross_val_score(neighbors.KNeighborsClassifier(n_neighbors= val), X, y, cv= kf, scoring=\"accuracy\")\n",
    "    print(f'Average score({val}): {\"{:.3f}\".format(score.mean())}')"
   ]
  },
  {
   "cell_type": "markdown",
   "metadata": {},
   "source": [
    "## Best Model and Result Analysis <a id =\"30\"></a>"
   ]
  },
  {
   "cell_type": "markdown",
   "metadata": {},
   "source": [
    "### Logistic Classifier"
   ]
  },
  {
   "cell_type": "code",
   "execution_count": 40,
   "metadata": {},
   "outputs": [],
   "source": [
    "model = linear_model.LogisticRegression(max_iter= 4000, solver= 'sag', random_state= 42)\n",
    "model.fit(X,y)\n",
    "pred_result = model.predict(X)"
   ]
  },
  {
   "cell_type": "code",
   "execution_count": 41,
   "metadata": {},
   "outputs": [
    {
     "name": "stdout",
     "output_type": "stream",
     "text": [
      "              precision    recall  f1-score   support\n",
      "\n",
      "           0       0.69      0.90      0.78       549\n",
      "           1       0.68      0.35      0.46       342\n",
      "\n",
      "    accuracy                           0.69       891\n",
      "   macro avg       0.69      0.62      0.62       891\n",
      "weighted avg       0.69      0.69      0.66       891\n",
      "\n"
     ]
    },
    {
     "data": {
      "image/png": "[encoded data removed]",
      "text/plain": [
       "<Figure size 640x480 with 2 Axes>"
      ]
     },
     "metadata": {},
     "output_type": "display_data"
    }
   ],
   "source": [
    "conf_mat = metrics.confusion_matrix(y, pred_result)\n",
    "sns.heatmap(conf_mat, annot=True, cmap='Blues')\n",
    "print(metrics.classification_report(y, pred_result))"
   ]
  },
  {
   "cell_type": "markdown",
   "metadata": {},
   "source": [
    "### Decision Tree Classifier"
   ]
  },
  {
   "cell_type": "code",
   "execution_count": 38,
   "metadata": {},
   "outputs": [],
   "source": [
    "model = tree.DecisionTreeClassifier(max_depth= 3, random_state= 42)\n",
    "model.fit(X,y)\n",
    "pred_result = model.predict(X)"
   ]
  },
  {
   "cell_type": "code",
   "execution_count": 39,
   "metadata": {},
   "outputs": [
    {
     "name": "stdout",
     "output_type": "stream",
     "text": [
      "              precision    recall  f1-score   support\n",
      "\n",
      "           0       0.74      0.85      0.79       549\n",
      "           1       0.68      0.51      0.59       342\n",
      "\n",
      "    accuracy                           0.72       891\n",
      "   macro avg       0.71      0.68      0.69       891\n",
      "weighted avg       0.72      0.72      0.71       891\n",
      "\n"
     ]
    },
    {
     "data": {
      "image/png": "[encoded data removed]",
      "text/plain": [
       "<Figure size 640x480 with 2 Axes>"
      ]
     },
     "metadata": {},
     "output_type": "display_data"
    }
   ],
   "source": [
    "conf_mat = metrics.confusion_matrix(y, pred_result)\n",
    "sns.heatmap(conf_mat, annot=True, cmap='Blues')\n",
    "print(metrics.classification_report(y, pred_result))"
   ]
  },
  {
   "cell_type": "markdown",
   "metadata": {},
   "source": [
    "### Random Forest Classifier"
   ]
  },
  {
   "cell_type": "code",
   "execution_count": 36,
   "metadata": {},
   "outputs": [],
   "source": [
    "model = ensemble.RandomForestClassifier(n_estimators= 50, random_state= 42)\n",
    "model.fit(X,y)\n",
    "pred_result = model.predict(X)"
   ]
  },
  {
   "cell_type": "code",
   "execution_count": 37,
   "metadata": {},
   "outputs": [
    {
     "name": "stdout",
     "output_type": "stream",
     "text": [
      "              precision    recall  f1-score   support\n",
      "\n",
      "           0       1.00      1.00      1.00       549\n",
      "           1       1.00      1.00      1.00       342\n",
      "\n",
      "    accuracy                           1.00       891\n",
      "   macro avg       1.00      1.00      1.00       891\n",
      "weighted avg       1.00      1.00      1.00       891\n",
      "\n"
     ]
    },
    {
     "data": {
      "image/png": "[encoded data removed]",
      "text/plain": [
       "<Figure size 640x480 with 2 Axes>"
      ]
     },
     "metadata": {},
     "output_type": "display_data"
    }
   ],
   "source": [
    "conf_mat = metrics.confusion_matrix(y, pred_result)\n",
    "sns.heatmap(conf_mat, annot=True, cmap='Blues')\n",
    "print(metrics.classification_report(y, pred_result))"
   ]
  },
  {
   "cell_type": "markdown",
   "metadata": {},
   "source": [
    "### KNN Classifier"
   ]
  },
  {
   "cell_type": "code",
   "execution_count": 42,
   "metadata": {},
   "outputs": [],
   "source": [
    "model = neighbors.KNeighborsClassifier(n_neighbors= 6)\n",
    "model.fit(X,y)\n",
    "pred_result = model.predict(X)"
   ]
  },
  {
   "cell_type": "code",
   "execution_count": 43,
   "metadata": {},
   "outputs": [
    {
     "name": "stdout",
     "output_type": "stream",
     "text": [
      "              precision    recall  f1-score   support\n",
      "\n",
      "           0       0.71      0.93      0.81       549\n",
      "           1       0.78      0.40      0.53       342\n",
      "\n",
      "    accuracy                           0.73       891\n",
      "   macro avg       0.75      0.67      0.67       891\n",
      "weighted avg       0.74      0.73      0.70       891\n",
      "\n"
     ]
    },
    {
     "data": {
      "image/png": "[encoded data removed]",
      "text/plain": [
       "<Figure size 640x480 with 2 Axes>"
      ]
     },
     "metadata": {},
     "output_type": "display_data"
    }
   ],
   "source": [
    "conf_mat = metrics.confusion_matrix(y, pred_result)\n",
    "sns.heatmap(conf_mat, annot=True, cmap='Blues')\n",
    "print(metrics.classification_report(y, pred_result))"
   ]
  },
  {
   "cell_type": "code",
   "execution_count": null,
   "metadata": {},
   "outputs": [],
   "source": []
  }
 ],
 "metadata": {
  "kernelspec": {
   "display_name": "Python 3",
   "language": "python",
   "name": "python3"
  },
  "language_info": {
   "codemirror_mode": {
    "name": "ipython",
    "version": 3
   },
   "file_extension": ".py",
   "mimetype": "text/x-python",
   "name": "python",
   "nbconvert_exporter": "python",
   "pygments_lexer": "ipython3",
   "version": "3.11.7"
  },
  "papermill": {
   "duration": 148.040844,
   "end_time": "2020-12-06T06:55:21.653875",
   "environment_variables": {},
   "exception": null,
   "input_path": "__notebook__.ipynb",
   "output_path": "__notebook__.ipynb",
   "parameters": {},
   "start_time": "2020-12-06T06:52:53.613031",
   "version": "2.1.0"
  }
 },
 "nbformat": 4,
 "nbformat_minor": 4
}
